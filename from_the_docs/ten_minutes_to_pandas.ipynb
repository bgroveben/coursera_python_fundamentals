{
 "cells": [
  {
   "cell_type": "markdown",
   "metadata": {
    "collapsed": true
   },
   "source": [
    "# 10 Minutes to pandas"
   ]
  },
  {
   "cell_type": "code",
   "execution_count": 17,
   "metadata": {
    "collapsed": true
   },
   "outputs": [],
   "source": [
    "import pandas as pd\n",
    "import numpy as np\n",
    "import matplotlib.pyplot as plt"
   ]
  },
  {
   "cell_type": "markdown",
   "metadata": {},
   "source": [
    "## Object Creation"
   ]
  },
  {
   "cell_type": "markdown",
   "metadata": {},
   "source": [
    "<p>Creating a Series by passing a list of values, letting pandas create a default integer index:</p>"
   ]
  },
  {
   "cell_type": "code",
   "execution_count": 18,
   "metadata": {
    "collapsed": false
   },
   "outputs": [
    {
     "data": {
      "text/plain": [
       "0    1.0\n",
       "1    3.0\n",
       "2    5.0\n",
       "3    NaN\n",
       "4    6.0\n",
       "5    8.0\n",
       "dtype: float64"
      ]
     },
     "execution_count": 18,
     "metadata": {},
     "output_type": "execute_result"
    }
   ],
   "source": [
    "s = pd.Series([1,3,5,np.nan,6,8])\n",
    "s"
   ]
  },
  {
   "cell_type": "markdown",
   "metadata": {},
   "source": [
    "<p>Creating a DataFrame by passing a numpy array, with a datetime index and labeled columns:</p>"
   ]
  },
  {
   "cell_type": "code",
   "execution_count": 19,
   "metadata": {
    "collapsed": false
   },
   "outputs": [
    {
     "data": {
      "text/plain": [
       "DatetimeIndex(['2016-11-12', '2016-11-13', '2016-11-14', '2016-11-15',\n",
       "               '2016-11-16', '2016-11-17'],\n",
       "              dtype='datetime64[ns]', freq='D')"
      ]
     },
     "execution_count": 19,
     "metadata": {},
     "output_type": "execute_result"
    }
   ],
   "source": [
    "dates = pd.date_range('20161112', periods=6)\n",
    "dates"
   ]
  },
  {
   "cell_type": "code",
   "execution_count": 20,
   "metadata": {
    "collapsed": false
   },
   "outputs": [
    {
     "data": {
      "text/html": [
       "<div>\n",
       "<table border=\"1\" class=\"dataframe\">\n",
       "  <thead>\n",
       "    <tr style=\"text-align: right;\">\n",
       "      <th></th>\n",
       "      <th>A</th>\n",
       "      <th>B</th>\n",
       "      <th>C</th>\n",
       "      <th>D</th>\n",
       "    </tr>\n",
       "  </thead>\n",
       "  <tbody>\n",
       "    <tr>\n",
       "      <th>2016-11-12</th>\n",
       "      <td>-1.685025</td>\n",
       "      <td>-0.671649</td>\n",
       "      <td>-0.806832</td>\n",
       "      <td>-0.619825</td>\n",
       "    </tr>\n",
       "    <tr>\n",
       "      <th>2016-11-13</th>\n",
       "      <td>1.004315</td>\n",
       "      <td>-1.022681</td>\n",
       "      <td>1.236683</td>\n",
       "      <td>1.791178</td>\n",
       "    </tr>\n",
       "    <tr>\n",
       "      <th>2016-11-14</th>\n",
       "      <td>-0.324606</td>\n",
       "      <td>0.591878</td>\n",
       "      <td>1.152705</td>\n",
       "      <td>-0.595503</td>\n",
       "    </tr>\n",
       "    <tr>\n",
       "      <th>2016-11-15</th>\n",
       "      <td>-0.172166</td>\n",
       "      <td>-0.433167</td>\n",
       "      <td>1.922695</td>\n",
       "      <td>0.489763</td>\n",
       "    </tr>\n",
       "    <tr>\n",
       "      <th>2016-11-16</th>\n",
       "      <td>0.203322</td>\n",
       "      <td>0.025313</td>\n",
       "      <td>0.776070</td>\n",
       "      <td>0.624141</td>\n",
       "    </tr>\n",
       "    <tr>\n",
       "      <th>2016-11-17</th>\n",
       "      <td>0.316484</td>\n",
       "      <td>1.513948</td>\n",
       "      <td>-0.498564</td>\n",
       "      <td>-0.023732</td>\n",
       "    </tr>\n",
       "  </tbody>\n",
       "</table>\n",
       "</div>"
      ],
      "text/plain": [
       "                   A         B         C         D\n",
       "2016-11-12 -1.685025 -0.671649 -0.806832 -0.619825\n",
       "2016-11-13  1.004315 -1.022681  1.236683  1.791178\n",
       "2016-11-14 -0.324606  0.591878  1.152705 -0.595503\n",
       "2016-11-15 -0.172166 -0.433167  1.922695  0.489763\n",
       "2016-11-16  0.203322  0.025313  0.776070  0.624141\n",
       "2016-11-17  0.316484  1.513948 -0.498564 -0.023732"
      ]
     },
     "execution_count": 20,
     "metadata": {},
     "output_type": "execute_result"
    }
   ],
   "source": [
    "df = pd.DataFrame(np.random.randn(6,4), index=dates, columns=list('ABCD'))\n",
    "df"
   ]
  },
  {
   "cell_type": "markdown",
   "metadata": {},
   "source": [
    "<p>Creating a DataFrame by passing a dict of objects that can be converted to series-like:</p>"
   ]
  },
  {
   "cell_type": "code",
   "execution_count": 21,
   "metadata": {
    "collapsed": false
   },
   "outputs": [
    {
     "data": {
      "text/html": [
       "<div>\n",
       "<table border=\"1\" class=\"dataframe\">\n",
       "  <thead>\n",
       "    <tr style=\"text-align: right;\">\n",
       "      <th></th>\n",
       "      <th>A</th>\n",
       "      <th>B</th>\n",
       "      <th>C</th>\n",
       "      <th>D</th>\n",
       "      <th>E</th>\n",
       "      <th>F</th>\n",
       "    </tr>\n",
       "  </thead>\n",
       "  <tbody>\n",
       "    <tr>\n",
       "      <th>0</th>\n",
       "      <td>1.0</td>\n",
       "      <td>1970-01-01 00:00:00.020161112</td>\n",
       "      <td>1.0</td>\n",
       "      <td>3</td>\n",
       "      <td>test</td>\n",
       "      <td>foo</td>\n",
       "    </tr>\n",
       "    <tr>\n",
       "      <th>1</th>\n",
       "      <td>1.0</td>\n",
       "      <td>1970-01-01 00:00:00.020161112</td>\n",
       "      <td>1.0</td>\n",
       "      <td>3</td>\n",
       "      <td>train</td>\n",
       "      <td>foo</td>\n",
       "    </tr>\n",
       "    <tr>\n",
       "      <th>2</th>\n",
       "      <td>1.0</td>\n",
       "      <td>1970-01-01 00:00:00.020161112</td>\n",
       "      <td>1.0</td>\n",
       "      <td>3</td>\n",
       "      <td>test</td>\n",
       "      <td>foo</td>\n",
       "    </tr>\n",
       "    <tr>\n",
       "      <th>3</th>\n",
       "      <td>1.0</td>\n",
       "      <td>1970-01-01 00:00:00.020161112</td>\n",
       "      <td>1.0</td>\n",
       "      <td>3</td>\n",
       "      <td>train</td>\n",
       "      <td>foo</td>\n",
       "    </tr>\n",
       "  </tbody>\n",
       "</table>\n",
       "</div>"
      ],
      "text/plain": [
       "     A                             B    C  D      E    F\n",
       "0  1.0 1970-01-01 00:00:00.020161112  1.0  3   test  foo\n",
       "1  1.0 1970-01-01 00:00:00.020161112  1.0  3  train  foo\n",
       "2  1.0 1970-01-01 00:00:00.020161112  1.0  3   test  foo\n",
       "3  1.0 1970-01-01 00:00:00.020161112  1.0  3  train  foo"
      ]
     },
     "execution_count": 21,
     "metadata": {},
     "output_type": "execute_result"
    }
   ],
   "source": [
    "df2 = pd.DataFrame({ 'A' : 1.,\n",
    "                     'B' : pd.Timestamp(20161112),\n",
    "                     'C' : pd.Series(1,index=list(range(4)),dtype='float32'),\n",
    "                     'D' : np.array([3] * 4,dtype='int32'),\n",
    "                     'E' : pd.Categorical([\"test\",\"train\",\"test\",\"train\"]),\n",
    "                     'F' : 'foo'})\n",
    "df2"
   ]
  },
  {
   "cell_type": "markdown",
   "metadata": {},
   "source": [
    "<p>Having specific dtypes:</p>"
   ]
  },
  {
   "cell_type": "code",
   "execution_count": 22,
   "metadata": {
    "collapsed": false
   },
   "outputs": [
    {
     "data": {
      "text/plain": [
       "A           float64\n",
       "B    datetime64[ns]\n",
       "C           float32\n",
       "D             int32\n",
       "E          category\n",
       "F            object\n",
       "dtype: object"
      ]
     },
     "execution_count": 22,
     "metadata": {},
     "output_type": "execute_result"
    }
   ],
   "source": [
    "df2.dtypes"
   ]
  },
  {
   "cell_type": "raw",
   "metadata": {},
   "source": [
    "If you’re using IPython, tab completion for column names (as well as public attributes) is automatically enabled. Here’s a subset of the attributes that will be completed:\n",
    "\n",
    ">>> df2.<TAB>\n",
    "\n",
    "df2.A                  df2.boxplot\n",
    "df2.abs                df2.C\n",
    "df2.add                df2.clip\n",
    "df2.add_prefix         df2.clip_lower\n",
    "df2.add_suffix         df2.clip_upper\n",
    "df2.align              df2.columns\n",
    "df2.all                df2.combine\n",
    "df2.any                df2.combineAdd\n",
    "df2.append             df2.combine_first\n",
    "df2.apply              df2.combineMult\n",
    "df2.applymap           df2.compound\n",
    "df2.as_blocks          df2.consolidate\n",
    "df2.asfreq             df2.convert_objects\n",
    "df2.as_matrix          df2.copy\n",
    "df2.astype             df2.corr\n",
    "df2.at                 df2.corrwith\n",
    "df2.at_time            df2.count\n",
    "df2.axes               df2.cov\n",
    "df2.B                  df2.cummax\n",
    "df2.between_time       df2.cummin\n",
    "df2.bfill              df2.cumprod\n",
    "df2.blocks             df2.cumsum\n",
    "df2.bool               df2.D\n",
    "\n",
    "As you can see, the columns A, B, C, and D are automatically tab completed. E is there as well; the rest of the attributes have been truncated for brevity."
   ]
  },
  {
   "cell_type": "markdown",
   "metadata": {},
   "source": [
    "## Viewing Data"
   ]
  },
  {
   "cell_type": "markdown",
   "metadata": {},
   "source": [
    "<p>See the top and bottom rows of the frame:</p>"
   ]
  },
  {
   "cell_type": "code",
   "execution_count": 23,
   "metadata": {
    "collapsed": false
   },
   "outputs": [
    {
     "data": {
      "text/html": [
       "<div>\n",
       "<table border=\"1\" class=\"dataframe\">\n",
       "  <thead>\n",
       "    <tr style=\"text-align: right;\">\n",
       "      <th></th>\n",
       "      <th>A</th>\n",
       "      <th>B</th>\n",
       "      <th>C</th>\n",
       "      <th>D</th>\n",
       "    </tr>\n",
       "  </thead>\n",
       "  <tbody>\n",
       "    <tr>\n",
       "      <th>2016-11-12</th>\n",
       "      <td>-1.685025</td>\n",
       "      <td>-0.671649</td>\n",
       "      <td>-0.806832</td>\n",
       "      <td>-0.619825</td>\n",
       "    </tr>\n",
       "    <tr>\n",
       "      <th>2016-11-13</th>\n",
       "      <td>1.004315</td>\n",
       "      <td>-1.022681</td>\n",
       "      <td>1.236683</td>\n",
       "      <td>1.791178</td>\n",
       "    </tr>\n",
       "    <tr>\n",
       "      <th>2016-11-14</th>\n",
       "      <td>-0.324606</td>\n",
       "      <td>0.591878</td>\n",
       "      <td>1.152705</td>\n",
       "      <td>-0.595503</td>\n",
       "    </tr>\n",
       "    <tr>\n",
       "      <th>2016-11-15</th>\n",
       "      <td>-0.172166</td>\n",
       "      <td>-0.433167</td>\n",
       "      <td>1.922695</td>\n",
       "      <td>0.489763</td>\n",
       "    </tr>\n",
       "    <tr>\n",
       "      <th>2016-11-16</th>\n",
       "      <td>0.203322</td>\n",
       "      <td>0.025313</td>\n",
       "      <td>0.776070</td>\n",
       "      <td>0.624141</td>\n",
       "    </tr>\n",
       "  </tbody>\n",
       "</table>\n",
       "</div>"
      ],
      "text/plain": [
       "                   A         B         C         D\n",
       "2016-11-12 -1.685025 -0.671649 -0.806832 -0.619825\n",
       "2016-11-13  1.004315 -1.022681  1.236683  1.791178\n",
       "2016-11-14 -0.324606  0.591878  1.152705 -0.595503\n",
       "2016-11-15 -0.172166 -0.433167  1.922695  0.489763\n",
       "2016-11-16  0.203322  0.025313  0.776070  0.624141"
      ]
     },
     "execution_count": 23,
     "metadata": {},
     "output_type": "execute_result"
    }
   ],
   "source": [
    "df.head()"
   ]
  },
  {
   "cell_type": "code",
   "execution_count": 24,
   "metadata": {
    "collapsed": false
   },
   "outputs": [
    {
     "data": {
      "text/html": [
       "<div>\n",
       "<table border=\"1\" class=\"dataframe\">\n",
       "  <thead>\n",
       "    <tr style=\"text-align: right;\">\n",
       "      <th></th>\n",
       "      <th>A</th>\n",
       "      <th>B</th>\n",
       "      <th>C</th>\n",
       "      <th>D</th>\n",
       "    </tr>\n",
       "  </thead>\n",
       "  <tbody>\n",
       "    <tr>\n",
       "      <th>2016-11-15</th>\n",
       "      <td>-0.172166</td>\n",
       "      <td>-0.433167</td>\n",
       "      <td>1.922695</td>\n",
       "      <td>0.489763</td>\n",
       "    </tr>\n",
       "    <tr>\n",
       "      <th>2016-11-16</th>\n",
       "      <td>0.203322</td>\n",
       "      <td>0.025313</td>\n",
       "      <td>0.776070</td>\n",
       "      <td>0.624141</td>\n",
       "    </tr>\n",
       "    <tr>\n",
       "      <th>2016-11-17</th>\n",
       "      <td>0.316484</td>\n",
       "      <td>1.513948</td>\n",
       "      <td>-0.498564</td>\n",
       "      <td>-0.023732</td>\n",
       "    </tr>\n",
       "  </tbody>\n",
       "</table>\n",
       "</div>"
      ],
      "text/plain": [
       "                   A         B         C         D\n",
       "2016-11-15 -0.172166 -0.433167  1.922695  0.489763\n",
       "2016-11-16  0.203322  0.025313  0.776070  0.624141\n",
       "2016-11-17  0.316484  1.513948 -0.498564 -0.023732"
      ]
     },
     "execution_count": 24,
     "metadata": {},
     "output_type": "execute_result"
    }
   ],
   "source": [
    "df.tail(3)"
   ]
  },
  {
   "cell_type": "markdown",
   "metadata": {},
   "source": [
    "<p>Display the index, columns, and the underlying numpy data:</p>"
   ]
  },
  {
   "cell_type": "code",
   "execution_count": 25,
   "metadata": {
    "collapsed": false
   },
   "outputs": [
    {
     "data": {
      "text/plain": [
       "DatetimeIndex(['2016-11-12', '2016-11-13', '2016-11-14', '2016-11-15',\n",
       "               '2016-11-16', '2016-11-17'],\n",
       "              dtype='datetime64[ns]', freq='D')"
      ]
     },
     "execution_count": 25,
     "metadata": {},
     "output_type": "execute_result"
    }
   ],
   "source": [
    "df.index"
   ]
  },
  {
   "cell_type": "code",
   "execution_count": 26,
   "metadata": {
    "collapsed": false
   },
   "outputs": [
    {
     "data": {
      "text/plain": [
       "Index(['A', 'B', 'C', 'D'], dtype='object')"
      ]
     },
     "execution_count": 26,
     "metadata": {},
     "output_type": "execute_result"
    }
   ],
   "source": [
    "df.columns"
   ]
  },
  {
   "cell_type": "code",
   "execution_count": 27,
   "metadata": {
    "collapsed": false
   },
   "outputs": [
    {
     "data": {
      "text/plain": [
       "array([[-1.68502533, -0.67164938, -0.80683187, -0.61982533],\n",
       "       [ 1.0043151 , -1.02268066,  1.23668295,  1.79117751],\n",
       "       [-0.32460627,  0.59187842,  1.15270517, -0.59550308],\n",
       "       [-0.17216571, -0.43316653,  1.92269511,  0.48976288],\n",
       "       [ 0.20332204,  0.02531329,  0.77607017,  0.62414113],\n",
       "       [ 0.31648411,  1.51394798, -0.49856356, -0.02373181]])"
      ]
     },
     "execution_count": 27,
     "metadata": {},
     "output_type": "execute_result"
    }
   ],
   "source": [
    "df.values"
   ]
  },
  {
   "cell_type": "markdown",
   "metadata": {},
   "source": [
    "<p>Describe shows a quick statistic summary of your data:</p>"
   ]
  },
  {
   "cell_type": "code",
   "execution_count": 28,
   "metadata": {
    "collapsed": false
   },
   "outputs": [
    {
     "data": {
      "text/html": [
       "<div>\n",
       "<table border=\"1\" class=\"dataframe\">\n",
       "  <thead>\n",
       "    <tr style=\"text-align: right;\">\n",
       "      <th></th>\n",
       "      <th>A</th>\n",
       "      <th>B</th>\n",
       "      <th>C</th>\n",
       "      <th>D</th>\n",
       "    </tr>\n",
       "  </thead>\n",
       "  <tbody>\n",
       "    <tr>\n",
       "      <th>count</th>\n",
       "      <td>6.000000</td>\n",
       "      <td>6.000000</td>\n",
       "      <td>6.000000</td>\n",
       "      <td>6.000000</td>\n",
       "    </tr>\n",
       "    <tr>\n",
       "      <th>mean</th>\n",
       "      <td>-0.109613</td>\n",
       "      <td>0.000607</td>\n",
       "      <td>0.630460</td>\n",
       "      <td>0.277670</td>\n",
       "    </tr>\n",
       "    <tr>\n",
       "      <th>std</th>\n",
       "      <td>0.900265</td>\n",
       "      <td>0.930335</td>\n",
       "      <td>1.065065</td>\n",
       "      <td>0.907139</td>\n",
       "    </tr>\n",
       "    <tr>\n",
       "      <th>min</th>\n",
       "      <td>-1.685025</td>\n",
       "      <td>-1.022681</td>\n",
       "      <td>-0.806832</td>\n",
       "      <td>-0.619825</td>\n",
       "    </tr>\n",
       "    <tr>\n",
       "      <th>25%</th>\n",
       "      <td>-0.286496</td>\n",
       "      <td>-0.612029</td>\n",
       "      <td>-0.179905</td>\n",
       "      <td>-0.452560</td>\n",
       "    </tr>\n",
       "    <tr>\n",
       "      <th>50%</th>\n",
       "      <td>0.015578</td>\n",
       "      <td>-0.203927</td>\n",
       "      <td>0.964388</td>\n",
       "      <td>0.233016</td>\n",
       "    </tr>\n",
       "    <tr>\n",
       "      <th>75%</th>\n",
       "      <td>0.288194</td>\n",
       "      <td>0.450237</td>\n",
       "      <td>1.215689</td>\n",
       "      <td>0.590547</td>\n",
       "    </tr>\n",
       "    <tr>\n",
       "      <th>max</th>\n",
       "      <td>1.004315</td>\n",
       "      <td>1.513948</td>\n",
       "      <td>1.922695</td>\n",
       "      <td>1.791178</td>\n",
       "    </tr>\n",
       "  </tbody>\n",
       "</table>\n",
       "</div>"
      ],
      "text/plain": [
       "              A         B         C         D\n",
       "count  6.000000  6.000000  6.000000  6.000000\n",
       "mean  -0.109613  0.000607  0.630460  0.277670\n",
       "std    0.900265  0.930335  1.065065  0.907139\n",
       "min   -1.685025 -1.022681 -0.806832 -0.619825\n",
       "25%   -0.286496 -0.612029 -0.179905 -0.452560\n",
       "50%    0.015578 -0.203927  0.964388  0.233016\n",
       "75%    0.288194  0.450237  1.215689  0.590547\n",
       "max    1.004315  1.513948  1.922695  1.791178"
      ]
     },
     "execution_count": 28,
     "metadata": {},
     "output_type": "execute_result"
    }
   ],
   "source": [
    "df.describe()"
   ]
  },
  {
   "cell_type": "markdown",
   "metadata": {},
   "source": [
    "<p>Transposing your data:</p>"
   ]
  },
  {
   "cell_type": "code",
   "execution_count": 29,
   "metadata": {
    "collapsed": false
   },
   "outputs": [
    {
     "data": {
      "text/html": [
       "<div>\n",
       "<table border=\"1\" class=\"dataframe\">\n",
       "  <thead>\n",
       "    <tr style=\"text-align: right;\">\n",
       "      <th></th>\n",
       "      <th>2016-11-12 00:00:00</th>\n",
       "      <th>2016-11-13 00:00:00</th>\n",
       "      <th>2016-11-14 00:00:00</th>\n",
       "      <th>2016-11-15 00:00:00</th>\n",
       "      <th>2016-11-16 00:00:00</th>\n",
       "      <th>2016-11-17 00:00:00</th>\n",
       "    </tr>\n",
       "  </thead>\n",
       "  <tbody>\n",
       "    <tr>\n",
       "      <th>A</th>\n",
       "      <td>-1.685025</td>\n",
       "      <td>1.004315</td>\n",
       "      <td>-0.324606</td>\n",
       "      <td>-0.172166</td>\n",
       "      <td>0.203322</td>\n",
       "      <td>0.316484</td>\n",
       "    </tr>\n",
       "    <tr>\n",
       "      <th>B</th>\n",
       "      <td>-0.671649</td>\n",
       "      <td>-1.022681</td>\n",
       "      <td>0.591878</td>\n",
       "      <td>-0.433167</td>\n",
       "      <td>0.025313</td>\n",
       "      <td>1.513948</td>\n",
       "    </tr>\n",
       "    <tr>\n",
       "      <th>C</th>\n",
       "      <td>-0.806832</td>\n",
       "      <td>1.236683</td>\n",
       "      <td>1.152705</td>\n",
       "      <td>1.922695</td>\n",
       "      <td>0.776070</td>\n",
       "      <td>-0.498564</td>\n",
       "    </tr>\n",
       "    <tr>\n",
       "      <th>D</th>\n",
       "      <td>-0.619825</td>\n",
       "      <td>1.791178</td>\n",
       "      <td>-0.595503</td>\n",
       "      <td>0.489763</td>\n",
       "      <td>0.624141</td>\n",
       "      <td>-0.023732</td>\n",
       "    </tr>\n",
       "  </tbody>\n",
       "</table>\n",
       "</div>"
      ],
      "text/plain": [
       "   2016-11-12  2016-11-13  2016-11-14  2016-11-15  2016-11-16  2016-11-17\n",
       "A   -1.685025    1.004315   -0.324606   -0.172166    0.203322    0.316484\n",
       "B   -0.671649   -1.022681    0.591878   -0.433167    0.025313    1.513948\n",
       "C   -0.806832    1.236683    1.152705    1.922695    0.776070   -0.498564\n",
       "D   -0.619825    1.791178   -0.595503    0.489763    0.624141   -0.023732"
      ]
     },
     "execution_count": 29,
     "metadata": {},
     "output_type": "execute_result"
    }
   ],
   "source": [
    "df.T"
   ]
  },
  {
   "cell_type": "markdown",
   "metadata": {},
   "source": [
    "<p>Sorting by an axis:</p>"
   ]
  },
  {
   "cell_type": "code",
   "execution_count": 30,
   "metadata": {
    "collapsed": false
   },
   "outputs": [
    {
     "data": {
      "text/html": [
       "<div>\n",
       "<table border=\"1\" class=\"dataframe\">\n",
       "  <thead>\n",
       "    <tr style=\"text-align: right;\">\n",
       "      <th></th>\n",
       "      <th>D</th>\n",
       "      <th>C</th>\n",
       "      <th>B</th>\n",
       "      <th>A</th>\n",
       "    </tr>\n",
       "  </thead>\n",
       "  <tbody>\n",
       "    <tr>\n",
       "      <th>2016-11-12</th>\n",
       "      <td>-0.619825</td>\n",
       "      <td>-0.806832</td>\n",
       "      <td>-0.671649</td>\n",
       "      <td>-1.685025</td>\n",
       "    </tr>\n",
       "    <tr>\n",
       "      <th>2016-11-13</th>\n",
       "      <td>1.791178</td>\n",
       "      <td>1.236683</td>\n",
       "      <td>-1.022681</td>\n",
       "      <td>1.004315</td>\n",
       "    </tr>\n",
       "    <tr>\n",
       "      <th>2016-11-14</th>\n",
       "      <td>-0.595503</td>\n",
       "      <td>1.152705</td>\n",
       "      <td>0.591878</td>\n",
       "      <td>-0.324606</td>\n",
       "    </tr>\n",
       "    <tr>\n",
       "      <th>2016-11-15</th>\n",
       "      <td>0.489763</td>\n",
       "      <td>1.922695</td>\n",
       "      <td>-0.433167</td>\n",
       "      <td>-0.172166</td>\n",
       "    </tr>\n",
       "    <tr>\n",
       "      <th>2016-11-16</th>\n",
       "      <td>0.624141</td>\n",
       "      <td>0.776070</td>\n",
       "      <td>0.025313</td>\n",
       "      <td>0.203322</td>\n",
       "    </tr>\n",
       "    <tr>\n",
       "      <th>2016-11-17</th>\n",
       "      <td>-0.023732</td>\n",
       "      <td>-0.498564</td>\n",
       "      <td>1.513948</td>\n",
       "      <td>0.316484</td>\n",
       "    </tr>\n",
       "  </tbody>\n",
       "</table>\n",
       "</div>"
      ],
      "text/plain": [
       "                   D         C         B         A\n",
       "2016-11-12 -0.619825 -0.806832 -0.671649 -1.685025\n",
       "2016-11-13  1.791178  1.236683 -1.022681  1.004315\n",
       "2016-11-14 -0.595503  1.152705  0.591878 -0.324606\n",
       "2016-11-15  0.489763  1.922695 -0.433167 -0.172166\n",
       "2016-11-16  0.624141  0.776070  0.025313  0.203322\n",
       "2016-11-17 -0.023732 -0.498564  1.513948  0.316484"
      ]
     },
     "execution_count": 30,
     "metadata": {},
     "output_type": "execute_result"
    }
   ],
   "source": [
    "df.sort_index(axis=1, ascending=False)"
   ]
  },
  {
   "cell_type": "markdown",
   "metadata": {},
   "source": [
    "<p>Sorting by values:</p>"
   ]
  },
  {
   "cell_type": "code",
   "execution_count": 31,
   "metadata": {
    "collapsed": false
   },
   "outputs": [
    {
     "data": {
      "text/html": [
       "<div>\n",
       "<table border=\"1\" class=\"dataframe\">\n",
       "  <thead>\n",
       "    <tr style=\"text-align: right;\">\n",
       "      <th></th>\n",
       "      <th>A</th>\n",
       "      <th>B</th>\n",
       "      <th>C</th>\n",
       "      <th>D</th>\n",
       "    </tr>\n",
       "  </thead>\n",
       "  <tbody>\n",
       "    <tr>\n",
       "      <th>2016-11-13</th>\n",
       "      <td>1.004315</td>\n",
       "      <td>-1.022681</td>\n",
       "      <td>1.236683</td>\n",
       "      <td>1.791178</td>\n",
       "    </tr>\n",
       "    <tr>\n",
       "      <th>2016-11-12</th>\n",
       "      <td>-1.685025</td>\n",
       "      <td>-0.671649</td>\n",
       "      <td>-0.806832</td>\n",
       "      <td>-0.619825</td>\n",
       "    </tr>\n",
       "    <tr>\n",
       "      <th>2016-11-15</th>\n",
       "      <td>-0.172166</td>\n",
       "      <td>-0.433167</td>\n",
       "      <td>1.922695</td>\n",
       "      <td>0.489763</td>\n",
       "    </tr>\n",
       "    <tr>\n",
       "      <th>2016-11-16</th>\n",
       "      <td>0.203322</td>\n",
       "      <td>0.025313</td>\n",
       "      <td>0.776070</td>\n",
       "      <td>0.624141</td>\n",
       "    </tr>\n",
       "    <tr>\n",
       "      <th>2016-11-14</th>\n",
       "      <td>-0.324606</td>\n",
       "      <td>0.591878</td>\n",
       "      <td>1.152705</td>\n",
       "      <td>-0.595503</td>\n",
       "    </tr>\n",
       "    <tr>\n",
       "      <th>2016-11-17</th>\n",
       "      <td>0.316484</td>\n",
       "      <td>1.513948</td>\n",
       "      <td>-0.498564</td>\n",
       "      <td>-0.023732</td>\n",
       "    </tr>\n",
       "  </tbody>\n",
       "</table>\n",
       "</div>"
      ],
      "text/plain": [
       "                   A         B         C         D\n",
       "2016-11-13  1.004315 -1.022681  1.236683  1.791178\n",
       "2016-11-12 -1.685025 -0.671649 -0.806832 -0.619825\n",
       "2016-11-15 -0.172166 -0.433167  1.922695  0.489763\n",
       "2016-11-16  0.203322  0.025313  0.776070  0.624141\n",
       "2016-11-14 -0.324606  0.591878  1.152705 -0.595503\n",
       "2016-11-17  0.316484  1.513948 -0.498564 -0.023732"
      ]
     },
     "execution_count": 31,
     "metadata": {},
     "output_type": "execute_result"
    }
   ],
   "source": [
    "df.sort_values(by='B')"
   ]
  },
  {
   "cell_type": "markdown",
   "metadata": {},
   "source": [
    "## Selection"
   ]
  },
  {
   "cell_type": "markdown",
   "metadata": {
    "collapsed": true
   },
   "source": [
    "<p>See the indexing documentation Indexing and Selecting Data and MultiIndex/Advanced Indexing.</p>"
   ]
  },
  {
   "cell_type": "markdown",
   "metadata": {},
   "source": [
    "### Getting"
   ]
  },
  {
   "cell_type": "markdown",
   "metadata": {},
   "source": [
    "Selecting a single column, which yields a Series, equivalent to df.A:"
   ]
  },
  {
   "cell_type": "code",
   "execution_count": 32,
   "metadata": {
    "collapsed": false
   },
   "outputs": [
    {
     "data": {
      "text/plain": [
       "2016-11-12   -1.685025\n",
       "2016-11-13    1.004315\n",
       "2016-11-14   -0.324606\n",
       "2016-11-15   -0.172166\n",
       "2016-11-16    0.203322\n",
       "2016-11-17    0.316484\n",
       "Freq: D, Name: A, dtype: float64"
      ]
     },
     "execution_count": 32,
     "metadata": {},
     "output_type": "execute_result"
    }
   ],
   "source": [
    "df['A']"
   ]
  },
  {
   "cell_type": "markdown",
   "metadata": {},
   "source": [
    "<p>Selecting via [ ], which slices the rows.</p>"
   ]
  },
  {
   "cell_type": "code",
   "execution_count": 33,
   "metadata": {
    "collapsed": false
   },
   "outputs": [
    {
     "data": {
      "text/html": [
       "<div>\n",
       "<table border=\"1\" class=\"dataframe\">\n",
       "  <thead>\n",
       "    <tr style=\"text-align: right;\">\n",
       "      <th></th>\n",
       "      <th>A</th>\n",
       "      <th>B</th>\n",
       "      <th>C</th>\n",
       "      <th>D</th>\n",
       "    </tr>\n",
       "  </thead>\n",
       "  <tbody>\n",
       "    <tr>\n",
       "      <th>2016-11-12</th>\n",
       "      <td>-1.685025</td>\n",
       "      <td>-0.671649</td>\n",
       "      <td>-0.806832</td>\n",
       "      <td>-0.619825</td>\n",
       "    </tr>\n",
       "    <tr>\n",
       "      <th>2016-11-13</th>\n",
       "      <td>1.004315</td>\n",
       "      <td>-1.022681</td>\n",
       "      <td>1.236683</td>\n",
       "      <td>1.791178</td>\n",
       "    </tr>\n",
       "    <tr>\n",
       "      <th>2016-11-14</th>\n",
       "      <td>-0.324606</td>\n",
       "      <td>0.591878</td>\n",
       "      <td>1.152705</td>\n",
       "      <td>-0.595503</td>\n",
       "    </tr>\n",
       "  </tbody>\n",
       "</table>\n",
       "</div>"
      ],
      "text/plain": [
       "                   A         B         C         D\n",
       "2016-11-12 -1.685025 -0.671649 -0.806832 -0.619825\n",
       "2016-11-13  1.004315 -1.022681  1.236683  1.791178\n",
       "2016-11-14 -0.324606  0.591878  1.152705 -0.595503"
      ]
     },
     "execution_count": 33,
     "metadata": {},
     "output_type": "execute_result"
    }
   ],
   "source": [
    "df[0:3]"
   ]
  },
  {
   "cell_type": "code",
   "execution_count": 34,
   "metadata": {
    "collapsed": false
   },
   "outputs": [
    {
     "data": {
      "text/html": [
       "<div>\n",
       "<table border=\"1\" class=\"dataframe\">\n",
       "  <thead>\n",
       "    <tr style=\"text-align: right;\">\n",
       "      <th></th>\n",
       "      <th>A</th>\n",
       "      <th>B</th>\n",
       "      <th>C</th>\n",
       "      <th>D</th>\n",
       "    </tr>\n",
       "  </thead>\n",
       "  <tbody>\n",
       "    <tr>\n",
       "      <th>2016-11-12</th>\n",
       "      <td>-1.685025</td>\n",
       "      <td>-0.671649</td>\n",
       "      <td>-0.806832</td>\n",
       "      <td>-0.619825</td>\n",
       "    </tr>\n",
       "    <tr>\n",
       "      <th>2016-11-13</th>\n",
       "      <td>1.004315</td>\n",
       "      <td>-1.022681</td>\n",
       "      <td>1.236683</td>\n",
       "      <td>1.791178</td>\n",
       "    </tr>\n",
       "    <tr>\n",
       "      <th>2016-11-14</th>\n",
       "      <td>-0.324606</td>\n",
       "      <td>0.591878</td>\n",
       "      <td>1.152705</td>\n",
       "      <td>-0.595503</td>\n",
       "    </tr>\n",
       "  </tbody>\n",
       "</table>\n",
       "</div>"
      ],
      "text/plain": [
       "                   A         B         C         D\n",
       "2016-11-12 -1.685025 -0.671649 -0.806832 -0.619825\n",
       "2016-11-13  1.004315 -1.022681  1.236683  1.791178\n",
       "2016-11-14 -0.324606  0.591878  1.152705 -0.595503"
      ]
     },
     "execution_count": 34,
     "metadata": {},
     "output_type": "execute_result"
    }
   ],
   "source": [
    "df['20161112':'20161114']"
   ]
  },
  {
   "cell_type": "markdown",
   "metadata": {},
   "source": [
    "### Selection by Label"
   ]
  },
  {
   "cell_type": "markdown",
   "metadata": {},
   "source": [
    "For getting a cross section using a label:"
   ]
  },
  {
   "cell_type": "code",
   "execution_count": 35,
   "metadata": {
    "collapsed": false
   },
   "outputs": [
    {
     "data": {
      "text/plain": [
       "A   -1.685025\n",
       "B   -0.671649\n",
       "C   -0.806832\n",
       "D   -0.619825\n",
       "Name: 2016-11-12 00:00:00, dtype: float64"
      ]
     },
     "execution_count": 35,
     "metadata": {},
     "output_type": "execute_result"
    }
   ],
   "source": [
    "df.loc[dates[0]]"
   ]
  },
  {
   "cell_type": "markdown",
   "metadata": {},
   "source": [
    "Selecting on a multi-axis by label:"
   ]
  },
  {
   "cell_type": "code",
   "execution_count": 36,
   "metadata": {
    "collapsed": false
   },
   "outputs": [
    {
     "data": {
      "text/html": [
       "<div>\n",
       "<table border=\"1\" class=\"dataframe\">\n",
       "  <thead>\n",
       "    <tr style=\"text-align: right;\">\n",
       "      <th></th>\n",
       "      <th>A</th>\n",
       "      <th>B</th>\n",
       "    </tr>\n",
       "  </thead>\n",
       "  <tbody>\n",
       "    <tr>\n",
       "      <th>2016-11-12</th>\n",
       "      <td>-1.685025</td>\n",
       "      <td>-0.671649</td>\n",
       "    </tr>\n",
       "    <tr>\n",
       "      <th>2016-11-13</th>\n",
       "      <td>1.004315</td>\n",
       "      <td>-1.022681</td>\n",
       "    </tr>\n",
       "    <tr>\n",
       "      <th>2016-11-14</th>\n",
       "      <td>-0.324606</td>\n",
       "      <td>0.591878</td>\n",
       "    </tr>\n",
       "    <tr>\n",
       "      <th>2016-11-15</th>\n",
       "      <td>-0.172166</td>\n",
       "      <td>-0.433167</td>\n",
       "    </tr>\n",
       "    <tr>\n",
       "      <th>2016-11-16</th>\n",
       "      <td>0.203322</td>\n",
       "      <td>0.025313</td>\n",
       "    </tr>\n",
       "    <tr>\n",
       "      <th>2016-11-17</th>\n",
       "      <td>0.316484</td>\n",
       "      <td>1.513948</td>\n",
       "    </tr>\n",
       "  </tbody>\n",
       "</table>\n",
       "</div>"
      ],
      "text/plain": [
       "                   A         B\n",
       "2016-11-12 -1.685025 -0.671649\n",
       "2016-11-13  1.004315 -1.022681\n",
       "2016-11-14 -0.324606  0.591878\n",
       "2016-11-15 -0.172166 -0.433167\n",
       "2016-11-16  0.203322  0.025313\n",
       "2016-11-17  0.316484  1.513948"
      ]
     },
     "execution_count": 36,
     "metadata": {},
     "output_type": "execute_result"
    }
   ],
   "source": [
    "df.loc[:,['A','B']]"
   ]
  },
  {
   "cell_type": "markdown",
   "metadata": {},
   "source": [
    "Showing label slicing, both endpoints are included:"
   ]
  },
  {
   "cell_type": "code",
   "execution_count": 38,
   "metadata": {
    "collapsed": false
   },
   "outputs": [
    {
     "data": {
      "text/html": [
       "<div>\n",
       "<table border=\"1\" class=\"dataframe\">\n",
       "  <thead>\n",
       "    <tr style=\"text-align: right;\">\n",
       "      <th></th>\n",
       "      <th>A</th>\n",
       "      <th>B</th>\n",
       "    </tr>\n",
       "  </thead>\n",
       "  <tbody>\n",
       "    <tr>\n",
       "      <th>2016-11-12</th>\n",
       "      <td>-1.685025</td>\n",
       "      <td>-0.671649</td>\n",
       "    </tr>\n",
       "    <tr>\n",
       "      <th>2016-11-13</th>\n",
       "      <td>1.004315</td>\n",
       "      <td>-1.022681</td>\n",
       "    </tr>\n",
       "    <tr>\n",
       "      <th>2016-11-14</th>\n",
       "      <td>-0.324606</td>\n",
       "      <td>0.591878</td>\n",
       "    </tr>\n",
       "  </tbody>\n",
       "</table>\n",
       "</div>"
      ],
      "text/plain": [
       "                   A         B\n",
       "2016-11-12 -1.685025 -0.671649\n",
       "2016-11-13  1.004315 -1.022681\n",
       "2016-11-14 -0.324606  0.591878"
      ]
     },
     "execution_count": 38,
     "metadata": {},
     "output_type": "execute_result"
    }
   ],
   "source": [
    "df.loc['20161112':'20161114',['A','B']]"
   ]
  },
  {
   "cell_type": "markdown",
   "metadata": {},
   "source": [
    "Reduction in the dimensions of the returned object:"
   ]
  },
  {
   "cell_type": "code",
   "execution_count": 39,
   "metadata": {
    "collapsed": false
   },
   "outputs": [
    {
     "data": {
      "text/plain": [
       "A   -1.685025\n",
       "B   -0.671649\n",
       "Name: 2016-11-12 00:00:00, dtype: float64"
      ]
     },
     "execution_count": 39,
     "metadata": {},
     "output_type": "execute_result"
    }
   ],
   "source": [
    "df.loc['20161112',['A','B']]"
   ]
  },
  {
   "cell_type": "markdown",
   "metadata": {},
   "source": [
    "For getting a scalar value:"
   ]
  },
  {
   "cell_type": "code",
   "execution_count": 40,
   "metadata": {
    "collapsed": false
   },
   "outputs": [
    {
     "data": {
      "text/plain": [
       "-1.6850253328968465"
      ]
     },
     "execution_count": 40,
     "metadata": {},
     "output_type": "execute_result"
    }
   ],
   "source": [
    "df.loc[dates[0],'A']"
   ]
  },
  {
   "cell_type": "markdown",
   "metadata": {},
   "source": [
    "For getting fast access to a scalar value (equivalent to the prior method):"
   ]
  },
  {
   "cell_type": "code",
   "execution_count": 41,
   "metadata": {
    "collapsed": false
   },
   "outputs": [
    {
     "data": {
      "text/plain": [
       "-1.6850253328968465"
      ]
     },
     "execution_count": 41,
     "metadata": {},
     "output_type": "execute_result"
    }
   ],
   "source": [
    "df.at[dates[0],'A']"
   ]
  },
  {
   "cell_type": "markdown",
   "metadata": {},
   "source": [
    "### Selection by Position"
   ]
  },
  {
   "cell_type": "markdown",
   "metadata": {},
   "source": [
    "Select via the position of the passed integers:"
   ]
  },
  {
   "cell_type": "code",
   "execution_count": 42,
   "metadata": {
    "collapsed": false
   },
   "outputs": [
    {
     "data": {
      "text/plain": [
       "A   -0.172166\n",
       "B   -0.433167\n",
       "C    1.922695\n",
       "D    0.489763\n",
       "Name: 2016-11-15 00:00:00, dtype: float64"
      ]
     },
     "execution_count": 42,
     "metadata": {},
     "output_type": "execute_result"
    }
   ],
   "source": [
    "df.iloc[3]"
   ]
  },
  {
   "cell_type": "markdown",
   "metadata": {},
   "source": [
    "By integer slices, acting similar to the numpy/python style:"
   ]
  },
  {
   "cell_type": "code",
   "execution_count": 43,
   "metadata": {
    "collapsed": false
   },
   "outputs": [
    {
     "data": {
      "text/html": [
       "<div>\n",
       "<table border=\"1\" class=\"dataframe\">\n",
       "  <thead>\n",
       "    <tr style=\"text-align: right;\">\n",
       "      <th></th>\n",
       "      <th>A</th>\n",
       "      <th>B</th>\n",
       "    </tr>\n",
       "  </thead>\n",
       "  <tbody>\n",
       "    <tr>\n",
       "      <th>2016-11-15</th>\n",
       "      <td>-0.172166</td>\n",
       "      <td>-0.433167</td>\n",
       "    </tr>\n",
       "    <tr>\n",
       "      <th>2016-11-16</th>\n",
       "      <td>0.203322</td>\n",
       "      <td>0.025313</td>\n",
       "    </tr>\n",
       "  </tbody>\n",
       "</table>\n",
       "</div>"
      ],
      "text/plain": [
       "                   A         B\n",
       "2016-11-15 -0.172166 -0.433167\n",
       "2016-11-16  0.203322  0.025313"
      ]
     },
     "execution_count": 43,
     "metadata": {},
     "output_type": "execute_result"
    }
   ],
   "source": [
    "df.iloc[3:5,0:2]"
   ]
  },
  {
   "cell_type": "markdown",
   "metadata": {},
   "source": [
    "By lists of integer position locations, similar to the numpy/python style:"
   ]
  },
  {
   "cell_type": "code",
   "execution_count": 44,
   "metadata": {
    "collapsed": false
   },
   "outputs": [
    {
     "data": {
      "text/html": [
       "<div>\n",
       "<table border=\"1\" class=\"dataframe\">\n",
       "  <thead>\n",
       "    <tr style=\"text-align: right;\">\n",
       "      <th></th>\n",
       "      <th>A</th>\n",
       "      <th>C</th>\n",
       "    </tr>\n",
       "  </thead>\n",
       "  <tbody>\n",
       "    <tr>\n",
       "      <th>2016-11-13</th>\n",
       "      <td>1.004315</td>\n",
       "      <td>1.236683</td>\n",
       "    </tr>\n",
       "    <tr>\n",
       "      <th>2016-11-14</th>\n",
       "      <td>-0.324606</td>\n",
       "      <td>1.152705</td>\n",
       "    </tr>\n",
       "    <tr>\n",
       "      <th>2016-11-16</th>\n",
       "      <td>0.203322</td>\n",
       "      <td>0.776070</td>\n",
       "    </tr>\n",
       "  </tbody>\n",
       "</table>\n",
       "</div>"
      ],
      "text/plain": [
       "                   A         C\n",
       "2016-11-13  1.004315  1.236683\n",
       "2016-11-14 -0.324606  1.152705\n",
       "2016-11-16  0.203322  0.776070"
      ]
     },
     "execution_count": 44,
     "metadata": {},
     "output_type": "execute_result"
    }
   ],
   "source": [
    "df.iloc[[1,2,4],[0,2]]"
   ]
  },
  {
   "cell_type": "markdown",
   "metadata": {},
   "source": [
    "For slicing rows explicitly:"
   ]
  },
  {
   "cell_type": "code",
   "execution_count": 45,
   "metadata": {
    "collapsed": false
   },
   "outputs": [
    {
     "data": {
      "text/html": [
       "<div>\n",
       "<table border=\"1\" class=\"dataframe\">\n",
       "  <thead>\n",
       "    <tr style=\"text-align: right;\">\n",
       "      <th></th>\n",
       "      <th>A</th>\n",
       "      <th>B</th>\n",
       "      <th>C</th>\n",
       "      <th>D</th>\n",
       "    </tr>\n",
       "  </thead>\n",
       "  <tbody>\n",
       "    <tr>\n",
       "      <th>2016-11-13</th>\n",
       "      <td>1.004315</td>\n",
       "      <td>-1.022681</td>\n",
       "      <td>1.236683</td>\n",
       "      <td>1.791178</td>\n",
       "    </tr>\n",
       "    <tr>\n",
       "      <th>2016-11-14</th>\n",
       "      <td>-0.324606</td>\n",
       "      <td>0.591878</td>\n",
       "      <td>1.152705</td>\n",
       "      <td>-0.595503</td>\n",
       "    </tr>\n",
       "  </tbody>\n",
       "</table>\n",
       "</div>"
      ],
      "text/plain": [
       "                   A         B         C         D\n",
       "2016-11-13  1.004315 -1.022681  1.236683  1.791178\n",
       "2016-11-14 -0.324606  0.591878  1.152705 -0.595503"
      ]
     },
     "execution_count": 45,
     "metadata": {},
     "output_type": "execute_result"
    }
   ],
   "source": [
    "df.iloc[1:3,:]"
   ]
  },
  {
   "cell_type": "markdown",
   "metadata": {},
   "source": [
    "For slicing columns explicitly:"
   ]
  },
  {
   "cell_type": "code",
   "execution_count": 46,
   "metadata": {
    "collapsed": false
   },
   "outputs": [
    {
     "data": {
      "text/html": [
       "<div>\n",
       "<table border=\"1\" class=\"dataframe\">\n",
       "  <thead>\n",
       "    <tr style=\"text-align: right;\">\n",
       "      <th></th>\n",
       "      <th>B</th>\n",
       "      <th>C</th>\n",
       "    </tr>\n",
       "  </thead>\n",
       "  <tbody>\n",
       "    <tr>\n",
       "      <th>2016-11-12</th>\n",
       "      <td>-0.671649</td>\n",
       "      <td>-0.806832</td>\n",
       "    </tr>\n",
       "    <tr>\n",
       "      <th>2016-11-13</th>\n",
       "      <td>-1.022681</td>\n",
       "      <td>1.236683</td>\n",
       "    </tr>\n",
       "    <tr>\n",
       "      <th>2016-11-14</th>\n",
       "      <td>0.591878</td>\n",
       "      <td>1.152705</td>\n",
       "    </tr>\n",
       "    <tr>\n",
       "      <th>2016-11-15</th>\n",
       "      <td>-0.433167</td>\n",
       "      <td>1.922695</td>\n",
       "    </tr>\n",
       "    <tr>\n",
       "      <th>2016-11-16</th>\n",
       "      <td>0.025313</td>\n",
       "      <td>0.776070</td>\n",
       "    </tr>\n",
       "    <tr>\n",
       "      <th>2016-11-17</th>\n",
       "      <td>1.513948</td>\n",
       "      <td>-0.498564</td>\n",
       "    </tr>\n",
       "  </tbody>\n",
       "</table>\n",
       "</div>"
      ],
      "text/plain": [
       "                   B         C\n",
       "2016-11-12 -0.671649 -0.806832\n",
       "2016-11-13 -1.022681  1.236683\n",
       "2016-11-14  0.591878  1.152705\n",
       "2016-11-15 -0.433167  1.922695\n",
       "2016-11-16  0.025313  0.776070\n",
       "2016-11-17  1.513948 -0.498564"
      ]
     },
     "execution_count": 46,
     "metadata": {},
     "output_type": "execute_result"
    }
   ],
   "source": [
    "df.iloc[:,1:3]"
   ]
  },
  {
   "cell_type": "markdown",
   "metadata": {},
   "source": [
    "For getting a value explicitly:"
   ]
  },
  {
   "cell_type": "code",
   "execution_count": 47,
   "metadata": {
    "collapsed": false
   },
   "outputs": [
    {
     "data": {
      "text/plain": [
       "-1.0226806576159055"
      ]
     },
     "execution_count": 47,
     "metadata": {},
     "output_type": "execute_result"
    }
   ],
   "source": [
    "df.iloc[1,1]"
   ]
  },
  {
   "cell_type": "markdown",
   "metadata": {},
   "source": [
    "For getting fast access to a scalar (equivalent to the prior method):"
   ]
  },
  {
   "cell_type": "code",
   "execution_count": 48,
   "metadata": {
    "collapsed": false
   },
   "outputs": [
    {
     "data": {
      "text/plain": [
       "-1.0226806576159055"
      ]
     },
     "execution_count": 48,
     "metadata": {},
     "output_type": "execute_result"
    }
   ],
   "source": [
    "df.iat[1,1]"
   ]
  },
  {
   "cell_type": "markdown",
   "metadata": {},
   "source": [
    "### Boolean Indexing"
   ]
  },
  {
   "cell_type": "markdown",
   "metadata": {},
   "source": [
    "Using a single column's values to select data:"
   ]
  },
  {
   "cell_type": "code",
   "execution_count": 49,
   "metadata": {
    "collapsed": false
   },
   "outputs": [
    {
     "data": {
      "text/html": [
       "<div>\n",
       "<table border=\"1\" class=\"dataframe\">\n",
       "  <thead>\n",
       "    <tr style=\"text-align: right;\">\n",
       "      <th></th>\n",
       "      <th>A</th>\n",
       "      <th>B</th>\n",
       "      <th>C</th>\n",
       "      <th>D</th>\n",
       "    </tr>\n",
       "  </thead>\n",
       "  <tbody>\n",
       "    <tr>\n",
       "      <th>2016-11-13</th>\n",
       "      <td>1.004315</td>\n",
       "      <td>-1.022681</td>\n",
       "      <td>1.236683</td>\n",
       "      <td>1.791178</td>\n",
       "    </tr>\n",
       "    <tr>\n",
       "      <th>2016-11-16</th>\n",
       "      <td>0.203322</td>\n",
       "      <td>0.025313</td>\n",
       "      <td>0.776070</td>\n",
       "      <td>0.624141</td>\n",
       "    </tr>\n",
       "    <tr>\n",
       "      <th>2016-11-17</th>\n",
       "      <td>0.316484</td>\n",
       "      <td>1.513948</td>\n",
       "      <td>-0.498564</td>\n",
       "      <td>-0.023732</td>\n",
       "    </tr>\n",
       "  </tbody>\n",
       "</table>\n",
       "</div>"
      ],
      "text/plain": [
       "                   A         B         C         D\n",
       "2016-11-13  1.004315 -1.022681  1.236683  1.791178\n",
       "2016-11-16  0.203322  0.025313  0.776070  0.624141\n",
       "2016-11-17  0.316484  1.513948 -0.498564 -0.023732"
      ]
     },
     "execution_count": 49,
     "metadata": {},
     "output_type": "execute_result"
    }
   ],
   "source": [
    "df[df.A > 0]"
   ]
  },
  {
   "cell_type": "markdown",
   "metadata": {},
   "source": [
    "A where operation for getting:"
   ]
  },
  {
   "cell_type": "code",
   "execution_count": 50,
   "metadata": {
    "collapsed": false
   },
   "outputs": [
    {
     "data": {
      "text/html": [
       "<div>\n",
       "<table border=\"1\" class=\"dataframe\">\n",
       "  <thead>\n",
       "    <tr style=\"text-align: right;\">\n",
       "      <th></th>\n",
       "      <th>A</th>\n",
       "      <th>B</th>\n",
       "      <th>C</th>\n",
       "      <th>D</th>\n",
       "    </tr>\n",
       "  </thead>\n",
       "  <tbody>\n",
       "    <tr>\n",
       "      <th>2016-11-12</th>\n",
       "      <td>NaN</td>\n",
       "      <td>NaN</td>\n",
       "      <td>NaN</td>\n",
       "      <td>NaN</td>\n",
       "    </tr>\n",
       "    <tr>\n",
       "      <th>2016-11-13</th>\n",
       "      <td>1.004315</td>\n",
       "      <td>NaN</td>\n",
       "      <td>1.236683</td>\n",
       "      <td>1.791178</td>\n",
       "    </tr>\n",
       "    <tr>\n",
       "      <th>2016-11-14</th>\n",
       "      <td>NaN</td>\n",
       "      <td>0.591878</td>\n",
       "      <td>1.152705</td>\n",
       "      <td>NaN</td>\n",
       "    </tr>\n",
       "    <tr>\n",
       "      <th>2016-11-15</th>\n",
       "      <td>NaN</td>\n",
       "      <td>NaN</td>\n",
       "      <td>1.922695</td>\n",
       "      <td>0.489763</td>\n",
       "    </tr>\n",
       "    <tr>\n",
       "      <th>2016-11-16</th>\n",
       "      <td>0.203322</td>\n",
       "      <td>0.025313</td>\n",
       "      <td>0.776070</td>\n",
       "      <td>0.624141</td>\n",
       "    </tr>\n",
       "    <tr>\n",
       "      <th>2016-11-17</th>\n",
       "      <td>0.316484</td>\n",
       "      <td>1.513948</td>\n",
       "      <td>NaN</td>\n",
       "      <td>NaN</td>\n",
       "    </tr>\n",
       "  </tbody>\n",
       "</table>\n",
       "</div>"
      ],
      "text/plain": [
       "                   A         B         C         D\n",
       "2016-11-12       NaN       NaN       NaN       NaN\n",
       "2016-11-13  1.004315       NaN  1.236683  1.791178\n",
       "2016-11-14       NaN  0.591878  1.152705       NaN\n",
       "2016-11-15       NaN       NaN  1.922695  0.489763\n",
       "2016-11-16  0.203322  0.025313  0.776070  0.624141\n",
       "2016-11-17  0.316484  1.513948       NaN       NaN"
      ]
     },
     "execution_count": 50,
     "metadata": {},
     "output_type": "execute_result"
    }
   ],
   "source": [
    "df[df > 0]"
   ]
  },
  {
   "cell_type": "markdown",
   "metadata": {},
   "source": [
    "Using the isin() method for filtering:"
   ]
  },
  {
   "cell_type": "code",
   "execution_count": 52,
   "metadata": {
    "collapsed": false
   },
   "outputs": [
    {
     "data": {
      "text/html": [
       "<div>\n",
       "<table border=\"1\" class=\"dataframe\">\n",
       "  <thead>\n",
       "    <tr style=\"text-align: right;\">\n",
       "      <th></th>\n",
       "      <th>A</th>\n",
       "      <th>B</th>\n",
       "      <th>C</th>\n",
       "      <th>D</th>\n",
       "      <th>E</th>\n",
       "    </tr>\n",
       "  </thead>\n",
       "  <tbody>\n",
       "    <tr>\n",
       "      <th>2016-11-12</th>\n",
       "      <td>-1.685025</td>\n",
       "      <td>-0.671649</td>\n",
       "      <td>-0.806832</td>\n",
       "      <td>-0.619825</td>\n",
       "      <td>one</td>\n",
       "    </tr>\n",
       "    <tr>\n",
       "      <th>2016-11-13</th>\n",
       "      <td>1.004315</td>\n",
       "      <td>-1.022681</td>\n",
       "      <td>1.236683</td>\n",
       "      <td>1.791178</td>\n",
       "      <td>one</td>\n",
       "    </tr>\n",
       "    <tr>\n",
       "      <th>2016-11-14</th>\n",
       "      <td>-0.324606</td>\n",
       "      <td>0.591878</td>\n",
       "      <td>1.152705</td>\n",
       "      <td>-0.595503</td>\n",
       "      <td>two</td>\n",
       "    </tr>\n",
       "    <tr>\n",
       "      <th>2016-11-15</th>\n",
       "      <td>-0.172166</td>\n",
       "      <td>-0.433167</td>\n",
       "      <td>1.922695</td>\n",
       "      <td>0.489763</td>\n",
       "      <td>three</td>\n",
       "    </tr>\n",
       "    <tr>\n",
       "      <th>2016-11-16</th>\n",
       "      <td>0.203322</td>\n",
       "      <td>0.025313</td>\n",
       "      <td>0.776070</td>\n",
       "      <td>0.624141</td>\n",
       "      <td>four</td>\n",
       "    </tr>\n",
       "    <tr>\n",
       "      <th>2016-11-17</th>\n",
       "      <td>0.316484</td>\n",
       "      <td>1.513948</td>\n",
       "      <td>-0.498564</td>\n",
       "      <td>-0.023732</td>\n",
       "      <td>three</td>\n",
       "    </tr>\n",
       "  </tbody>\n",
       "</table>\n",
       "</div>"
      ],
      "text/plain": [
       "                   A         B         C         D      E\n",
       "2016-11-12 -1.685025 -0.671649 -0.806832 -0.619825    one\n",
       "2016-11-13  1.004315 -1.022681  1.236683  1.791178    one\n",
       "2016-11-14 -0.324606  0.591878  1.152705 -0.595503    two\n",
       "2016-11-15 -0.172166 -0.433167  1.922695  0.489763  three\n",
       "2016-11-16  0.203322  0.025313  0.776070  0.624141   four\n",
       "2016-11-17  0.316484  1.513948 -0.498564 -0.023732  three"
      ]
     },
     "execution_count": 52,
     "metadata": {},
     "output_type": "execute_result"
    }
   ],
   "source": [
    "df2 = df.copy()\n",
    "df2['E'] = ['one', 'one', 'two', 'three', 'four', 'three']\n",
    "df2"
   ]
  },
  {
   "cell_type": "code",
   "execution_count": 53,
   "metadata": {
    "collapsed": false
   },
   "outputs": [
    {
     "data": {
      "text/html": [
       "<div>\n",
       "<table border=\"1\" class=\"dataframe\">\n",
       "  <thead>\n",
       "    <tr style=\"text-align: right;\">\n",
       "      <th></th>\n",
       "      <th>A</th>\n",
       "      <th>B</th>\n",
       "      <th>C</th>\n",
       "      <th>D</th>\n",
       "      <th>E</th>\n",
       "    </tr>\n",
       "  </thead>\n",
       "  <tbody>\n",
       "    <tr>\n",
       "      <th>2016-11-14</th>\n",
       "      <td>-0.324606</td>\n",
       "      <td>0.591878</td>\n",
       "      <td>1.152705</td>\n",
       "      <td>-0.595503</td>\n",
       "      <td>two</td>\n",
       "    </tr>\n",
       "    <tr>\n",
       "      <th>2016-11-16</th>\n",
       "      <td>0.203322</td>\n",
       "      <td>0.025313</td>\n",
       "      <td>0.776070</td>\n",
       "      <td>0.624141</td>\n",
       "      <td>four</td>\n",
       "    </tr>\n",
       "  </tbody>\n",
       "</table>\n",
       "</div>"
      ],
      "text/plain": [
       "                   A         B         C         D     E\n",
       "2016-11-14 -0.324606  0.591878  1.152705 -0.595503   two\n",
       "2016-11-16  0.203322  0.025313  0.776070  0.624141  four"
      ]
     },
     "execution_count": 53,
     "metadata": {},
     "output_type": "execute_result"
    }
   ],
   "source": [
    "df2[df2['E'].isin(['two','four'])]"
   ]
  },
  {
   "cell_type": "markdown",
   "metadata": {},
   "source": [
    "### Setting"
   ]
  },
  {
   "cell_type": "markdown",
   "metadata": {},
   "source": [
    "Setting a new column automatically aligns the data by the indexes:"
   ]
  },
  {
   "cell_type": "code",
   "execution_count": 55,
   "metadata": {
    "collapsed": false
   },
   "outputs": [
    {
     "data": {
      "text/plain": [
       "2016-11-12    1\n",
       "2016-11-13    2\n",
       "2016-11-14    3\n",
       "2016-11-15    4\n",
       "2016-11-16    5\n",
       "2016-11-17    6\n",
       "Freq: D, dtype: int64"
      ]
     },
     "execution_count": 55,
     "metadata": {},
     "output_type": "execute_result"
    }
   ],
   "source": [
    "s1 = pd.Series([1,2,3,4,5,6], index=pd.date_range('20161112', periods=6))\n",
    "s1"
   ]
  },
  {
   "cell_type": "code",
   "execution_count": 56,
   "metadata": {
    "collapsed": false
   },
   "outputs": [
    {
     "data": {
      "text/html": [
       "<div>\n",
       "<table border=\"1\" class=\"dataframe\">\n",
       "  <thead>\n",
       "    <tr style=\"text-align: right;\">\n",
       "      <th></th>\n",
       "      <th>A</th>\n",
       "      <th>B</th>\n",
       "      <th>C</th>\n",
       "      <th>D</th>\n",
       "      <th>F</th>\n",
       "    </tr>\n",
       "  </thead>\n",
       "  <tbody>\n",
       "    <tr>\n",
       "      <th>2016-11-12</th>\n",
       "      <td>-1.685025</td>\n",
       "      <td>-0.671649</td>\n",
       "      <td>-0.806832</td>\n",
       "      <td>-0.619825</td>\n",
       "      <td>1</td>\n",
       "    </tr>\n",
       "    <tr>\n",
       "      <th>2016-11-13</th>\n",
       "      <td>1.004315</td>\n",
       "      <td>-1.022681</td>\n",
       "      <td>1.236683</td>\n",
       "      <td>1.791178</td>\n",
       "      <td>2</td>\n",
       "    </tr>\n",
       "    <tr>\n",
       "      <th>2016-11-14</th>\n",
       "      <td>-0.324606</td>\n",
       "      <td>0.591878</td>\n",
       "      <td>1.152705</td>\n",
       "      <td>-0.595503</td>\n",
       "      <td>3</td>\n",
       "    </tr>\n",
       "    <tr>\n",
       "      <th>2016-11-15</th>\n",
       "      <td>-0.172166</td>\n",
       "      <td>-0.433167</td>\n",
       "      <td>1.922695</td>\n",
       "      <td>0.489763</td>\n",
       "      <td>4</td>\n",
       "    </tr>\n",
       "    <tr>\n",
       "      <th>2016-11-16</th>\n",
       "      <td>0.203322</td>\n",
       "      <td>0.025313</td>\n",
       "      <td>0.776070</td>\n",
       "      <td>0.624141</td>\n",
       "      <td>5</td>\n",
       "    </tr>\n",
       "    <tr>\n",
       "      <th>2016-11-17</th>\n",
       "      <td>0.316484</td>\n",
       "      <td>1.513948</td>\n",
       "      <td>-0.498564</td>\n",
       "      <td>-0.023732</td>\n",
       "      <td>6</td>\n",
       "    </tr>\n",
       "  </tbody>\n",
       "</table>\n",
       "</div>"
      ],
      "text/plain": [
       "                   A         B         C         D  F\n",
       "2016-11-12 -1.685025 -0.671649 -0.806832 -0.619825  1\n",
       "2016-11-13  1.004315 -1.022681  1.236683  1.791178  2\n",
       "2016-11-14 -0.324606  0.591878  1.152705 -0.595503  3\n",
       "2016-11-15 -0.172166 -0.433167  1.922695  0.489763  4\n",
       "2016-11-16  0.203322  0.025313  0.776070  0.624141  5\n",
       "2016-11-17  0.316484  1.513948 -0.498564 -0.023732  6"
      ]
     },
     "execution_count": 56,
     "metadata": {},
     "output_type": "execute_result"
    }
   ],
   "source": [
    "df['F'] = s1\n",
    "df"
   ]
  },
  {
   "cell_type": "markdown",
   "metadata": {},
   "source": [
    "Setting values by label:"
   ]
  },
  {
   "cell_type": "code",
   "execution_count": 58,
   "metadata": {
    "collapsed": false
   },
   "outputs": [
    {
     "data": {
      "text/html": [
       "<div>\n",
       "<table border=\"1\" class=\"dataframe\">\n",
       "  <thead>\n",
       "    <tr style=\"text-align: right;\">\n",
       "      <th></th>\n",
       "      <th>A</th>\n",
       "      <th>B</th>\n",
       "      <th>C</th>\n",
       "      <th>D</th>\n",
       "      <th>F</th>\n",
       "    </tr>\n",
       "  </thead>\n",
       "  <tbody>\n",
       "    <tr>\n",
       "      <th>2016-11-12</th>\n",
       "      <td>0.000000</td>\n",
       "      <td>-0.671649</td>\n",
       "      <td>-0.806832</td>\n",
       "      <td>-0.619825</td>\n",
       "      <td>1</td>\n",
       "    </tr>\n",
       "    <tr>\n",
       "      <th>2016-11-13</th>\n",
       "      <td>1.004315</td>\n",
       "      <td>-1.022681</td>\n",
       "      <td>1.236683</td>\n",
       "      <td>1.791178</td>\n",
       "      <td>2</td>\n",
       "    </tr>\n",
       "    <tr>\n",
       "      <th>2016-11-14</th>\n",
       "      <td>-0.324606</td>\n",
       "      <td>0.591878</td>\n",
       "      <td>1.152705</td>\n",
       "      <td>-0.595503</td>\n",
       "      <td>3</td>\n",
       "    </tr>\n",
       "    <tr>\n",
       "      <th>2016-11-15</th>\n",
       "      <td>-0.172166</td>\n",
       "      <td>-0.433167</td>\n",
       "      <td>1.922695</td>\n",
       "      <td>0.489763</td>\n",
       "      <td>4</td>\n",
       "    </tr>\n",
       "    <tr>\n",
       "      <th>2016-11-16</th>\n",
       "      <td>0.203322</td>\n",
       "      <td>0.025313</td>\n",
       "      <td>0.776070</td>\n",
       "      <td>0.624141</td>\n",
       "      <td>5</td>\n",
       "    </tr>\n",
       "    <tr>\n",
       "      <th>2016-11-17</th>\n",
       "      <td>0.316484</td>\n",
       "      <td>1.513948</td>\n",
       "      <td>-0.498564</td>\n",
       "      <td>-0.023732</td>\n",
       "      <td>6</td>\n",
       "    </tr>\n",
       "  </tbody>\n",
       "</table>\n",
       "</div>"
      ],
      "text/plain": [
       "                   A         B         C         D  F\n",
       "2016-11-12  0.000000 -0.671649 -0.806832 -0.619825  1\n",
       "2016-11-13  1.004315 -1.022681  1.236683  1.791178  2\n",
       "2016-11-14 -0.324606  0.591878  1.152705 -0.595503  3\n",
       "2016-11-15 -0.172166 -0.433167  1.922695  0.489763  4\n",
       "2016-11-16  0.203322  0.025313  0.776070  0.624141  5\n",
       "2016-11-17  0.316484  1.513948 -0.498564 -0.023732  6"
      ]
     },
     "execution_count": 58,
     "metadata": {},
     "output_type": "execute_result"
    }
   ],
   "source": [
    "df.at[dates[0],'A'] = 0\n",
    "df"
   ]
  },
  {
   "cell_type": "markdown",
   "metadata": {},
   "source": [
    "Setting values by position:"
   ]
  },
  {
   "cell_type": "code",
   "execution_count": 59,
   "metadata": {
    "collapsed": false
   },
   "outputs": [
    {
     "data": {
      "text/html": [
       "<div>\n",
       "<table border=\"1\" class=\"dataframe\">\n",
       "  <thead>\n",
       "    <tr style=\"text-align: right;\">\n",
       "      <th></th>\n",
       "      <th>A</th>\n",
       "      <th>B</th>\n",
       "      <th>C</th>\n",
       "      <th>D</th>\n",
       "      <th>F</th>\n",
       "    </tr>\n",
       "  </thead>\n",
       "  <tbody>\n",
       "    <tr>\n",
       "      <th>2016-11-12</th>\n",
       "      <td>0.000000</td>\n",
       "      <td>0.000000</td>\n",
       "      <td>-0.806832</td>\n",
       "      <td>-0.619825</td>\n",
       "      <td>1</td>\n",
       "    </tr>\n",
       "    <tr>\n",
       "      <th>2016-11-13</th>\n",
       "      <td>1.004315</td>\n",
       "      <td>-1.022681</td>\n",
       "      <td>1.236683</td>\n",
       "      <td>1.791178</td>\n",
       "      <td>2</td>\n",
       "    </tr>\n",
       "    <tr>\n",
       "      <th>2016-11-14</th>\n",
       "      <td>-0.324606</td>\n",
       "      <td>0.591878</td>\n",
       "      <td>1.152705</td>\n",
       "      <td>-0.595503</td>\n",
       "      <td>3</td>\n",
       "    </tr>\n",
       "    <tr>\n",
       "      <th>2016-11-15</th>\n",
       "      <td>-0.172166</td>\n",
       "      <td>-0.433167</td>\n",
       "      <td>1.922695</td>\n",
       "      <td>0.489763</td>\n",
       "      <td>4</td>\n",
       "    </tr>\n",
       "    <tr>\n",
       "      <th>2016-11-16</th>\n",
       "      <td>0.203322</td>\n",
       "      <td>0.025313</td>\n",
       "      <td>0.776070</td>\n",
       "      <td>0.624141</td>\n",
       "      <td>5</td>\n",
       "    </tr>\n",
       "    <tr>\n",
       "      <th>2016-11-17</th>\n",
       "      <td>0.316484</td>\n",
       "      <td>1.513948</td>\n",
       "      <td>-0.498564</td>\n",
       "      <td>-0.023732</td>\n",
       "      <td>6</td>\n",
       "    </tr>\n",
       "  </tbody>\n",
       "</table>\n",
       "</div>"
      ],
      "text/plain": [
       "                   A         B         C         D  F\n",
       "2016-11-12  0.000000  0.000000 -0.806832 -0.619825  1\n",
       "2016-11-13  1.004315 -1.022681  1.236683  1.791178  2\n",
       "2016-11-14 -0.324606  0.591878  1.152705 -0.595503  3\n",
       "2016-11-15 -0.172166 -0.433167  1.922695  0.489763  4\n",
       "2016-11-16  0.203322  0.025313  0.776070  0.624141  5\n",
       "2016-11-17  0.316484  1.513948 -0.498564 -0.023732  6"
      ]
     },
     "execution_count": 59,
     "metadata": {},
     "output_type": "execute_result"
    }
   ],
   "source": [
    "df.iat[0,1] = 0\n",
    "df"
   ]
  },
  {
   "cell_type": "markdown",
   "metadata": {},
   "source": [
    "Setting by assigning with a numpy array:"
   ]
  },
  {
   "cell_type": "code",
   "execution_count": 60,
   "metadata": {
    "collapsed": false
   },
   "outputs": [
    {
     "data": {
      "text/html": [
       "<div>\n",
       "<table border=\"1\" class=\"dataframe\">\n",
       "  <thead>\n",
       "    <tr style=\"text-align: right;\">\n",
       "      <th></th>\n",
       "      <th>A</th>\n",
       "      <th>B</th>\n",
       "      <th>C</th>\n",
       "      <th>D</th>\n",
       "      <th>F</th>\n",
       "    </tr>\n",
       "  </thead>\n",
       "  <tbody>\n",
       "    <tr>\n",
       "      <th>2016-11-12</th>\n",
       "      <td>0.000000</td>\n",
       "      <td>0.000000</td>\n",
       "      <td>-0.806832</td>\n",
       "      <td>5</td>\n",
       "      <td>1</td>\n",
       "    </tr>\n",
       "    <tr>\n",
       "      <th>2016-11-13</th>\n",
       "      <td>1.004315</td>\n",
       "      <td>-1.022681</td>\n",
       "      <td>1.236683</td>\n",
       "      <td>5</td>\n",
       "      <td>2</td>\n",
       "    </tr>\n",
       "    <tr>\n",
       "      <th>2016-11-14</th>\n",
       "      <td>-0.324606</td>\n",
       "      <td>0.591878</td>\n",
       "      <td>1.152705</td>\n",
       "      <td>5</td>\n",
       "      <td>3</td>\n",
       "    </tr>\n",
       "    <tr>\n",
       "      <th>2016-11-15</th>\n",
       "      <td>-0.172166</td>\n",
       "      <td>-0.433167</td>\n",
       "      <td>1.922695</td>\n",
       "      <td>5</td>\n",
       "      <td>4</td>\n",
       "    </tr>\n",
       "    <tr>\n",
       "      <th>2016-11-16</th>\n",
       "      <td>0.203322</td>\n",
       "      <td>0.025313</td>\n",
       "      <td>0.776070</td>\n",
       "      <td>5</td>\n",
       "      <td>5</td>\n",
       "    </tr>\n",
       "    <tr>\n",
       "      <th>2016-11-17</th>\n",
       "      <td>0.316484</td>\n",
       "      <td>1.513948</td>\n",
       "      <td>-0.498564</td>\n",
       "      <td>5</td>\n",
       "      <td>6</td>\n",
       "    </tr>\n",
       "  </tbody>\n",
       "</table>\n",
       "</div>"
      ],
      "text/plain": [
       "                   A         B         C  D  F\n",
       "2016-11-12  0.000000  0.000000 -0.806832  5  1\n",
       "2016-11-13  1.004315 -1.022681  1.236683  5  2\n",
       "2016-11-14 -0.324606  0.591878  1.152705  5  3\n",
       "2016-11-15 -0.172166 -0.433167  1.922695  5  4\n",
       "2016-11-16  0.203322  0.025313  0.776070  5  5\n",
       "2016-11-17  0.316484  1.513948 -0.498564  5  6"
      ]
     },
     "execution_count": 60,
     "metadata": {},
     "output_type": "execute_result"
    }
   ],
   "source": [
    "df.loc[:,'D'] = np.array([5] * len(df))\n",
    "df"
   ]
  },
  {
   "cell_type": "markdown",
   "metadata": {},
   "source": [
    "A where operation with setting:"
   ]
  },
  {
   "cell_type": "code",
   "execution_count": 61,
   "metadata": {
    "collapsed": false
   },
   "outputs": [
    {
     "data": {
      "text/html": [
       "<div>\n",
       "<table border=\"1\" class=\"dataframe\">\n",
       "  <thead>\n",
       "    <tr style=\"text-align: right;\">\n",
       "      <th></th>\n",
       "      <th>A</th>\n",
       "      <th>B</th>\n",
       "      <th>C</th>\n",
       "      <th>D</th>\n",
       "      <th>F</th>\n",
       "    </tr>\n",
       "  </thead>\n",
       "  <tbody>\n",
       "    <tr>\n",
       "      <th>2016-11-12</th>\n",
       "      <td>0.000000</td>\n",
       "      <td>0.000000</td>\n",
       "      <td>-0.806832</td>\n",
       "      <td>-5</td>\n",
       "      <td>-1</td>\n",
       "    </tr>\n",
       "    <tr>\n",
       "      <th>2016-11-13</th>\n",
       "      <td>-1.004315</td>\n",
       "      <td>-1.022681</td>\n",
       "      <td>-1.236683</td>\n",
       "      <td>-5</td>\n",
       "      <td>-2</td>\n",
       "    </tr>\n",
       "    <tr>\n",
       "      <th>2016-11-14</th>\n",
       "      <td>-0.324606</td>\n",
       "      <td>-0.591878</td>\n",
       "      <td>-1.152705</td>\n",
       "      <td>-5</td>\n",
       "      <td>-3</td>\n",
       "    </tr>\n",
       "    <tr>\n",
       "      <th>2016-11-15</th>\n",
       "      <td>-0.172166</td>\n",
       "      <td>-0.433167</td>\n",
       "      <td>-1.922695</td>\n",
       "      <td>-5</td>\n",
       "      <td>-4</td>\n",
       "    </tr>\n",
       "    <tr>\n",
       "      <th>2016-11-16</th>\n",
       "      <td>-0.203322</td>\n",
       "      <td>-0.025313</td>\n",
       "      <td>-0.776070</td>\n",
       "      <td>-5</td>\n",
       "      <td>-5</td>\n",
       "    </tr>\n",
       "    <tr>\n",
       "      <th>2016-11-17</th>\n",
       "      <td>-0.316484</td>\n",
       "      <td>-1.513948</td>\n",
       "      <td>-0.498564</td>\n",
       "      <td>-5</td>\n",
       "      <td>-6</td>\n",
       "    </tr>\n",
       "  </tbody>\n",
       "</table>\n",
       "</div>"
      ],
      "text/plain": [
       "                   A         B         C  D  F\n",
       "2016-11-12  0.000000  0.000000 -0.806832 -5 -1\n",
       "2016-11-13 -1.004315 -1.022681 -1.236683 -5 -2\n",
       "2016-11-14 -0.324606 -0.591878 -1.152705 -5 -3\n",
       "2016-11-15 -0.172166 -0.433167 -1.922695 -5 -4\n",
       "2016-11-16 -0.203322 -0.025313 -0.776070 -5 -5\n",
       "2016-11-17 -0.316484 -1.513948 -0.498564 -5 -6"
      ]
     },
     "execution_count": 61,
     "metadata": {},
     "output_type": "execute_result"
    }
   ],
   "source": [
    "df2 = df.copy()\n",
    "df2[df2 > 0] = -df2\n",
    "df2"
   ]
  },
  {
   "cell_type": "markdown",
   "metadata": {},
   "source": [
    "## Missing Data"
   ]
  },
  {
   "cell_type": "code",
   "execution_count": null,
   "metadata": {
    "collapsed": true
   },
   "outputs": [],
   "source": []
  }
 ],
 "metadata": {
  "kernelspec": {
   "display_name": "Python 3",
   "language": "python",
   "name": "python3"
  },
  "language_info": {
   "codemirror_mode": {
    "name": "ipython",
    "version": 3
   },
   "file_extension": ".py",
   "mimetype": "text/x-python",
   "name": "python",
   "nbconvert_exporter": "python",
   "pygments_lexer": "ipython3",
   "version": "3.5.2"
  }
 },
 "nbformat": 4,
 "nbformat_minor": 1
}
