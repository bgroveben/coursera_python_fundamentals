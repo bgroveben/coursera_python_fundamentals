{
 "cells": [
  {
   "cell_type": "markdown",
   "metadata": {},
   "source": [
    "---\n",
    "\n",
    "_You are currently looking at **version 1.0** of this notebook. To download notebooks and datafiles, as well as get help on Jupyter notebooks in the Coursera platform, visit the [Jupyter Notebook FAQ](https://www.coursera.org/learn/python-data-analysis/resources/0dhYG) course resource._\n",
    "\n",
    "---"
   ]
  },
  {
   "cell_type": "markdown",
   "metadata": {},
   "source": [
    "# Assignment 3 - More Pandas\n",
    "All questions are weighted the same in this assignment. This assignment requires more individual learning then the last one did - you are encouraged to check out the [pandas documentation](http://pandas.pydata.org/pandas-docs/stable/) to find functions or methods you might not have used yet, or ask questions on [Stack Overflow](http://stackoverflow.com/) and tag them as pandas and python related. And of course, the discussion forums are open for interaction with your peers and the course staff."
   ]
  },
  {
   "cell_type": "code",
   "execution_count": 1,
   "metadata": {
    "collapsed": true
   },
   "outputs": [],
   "source": [
    "import pandas as pd\n",
    "import numpy as np"
   ]
  },
  {
   "cell_type": "code",
   "execution_count": 2,
   "metadata": {
    "collapsed": false
   },
   "outputs": [
    {
     "name": "stdout",
     "output_type": "stream",
     "text": [
      "          Country  Energy Supply  Energy Supply per Capita  % Renewables\n",
      "0     Afghanistan   3.210000e+08                      10.0     78.669280\n",
      "1         Albania   1.020000e+08                      35.0    100.000000\n",
      "2         Algeria   1.959000e+09                      51.0      0.551010\n",
      "3  American Samoa            NaN                       NaN      0.641026\n",
      "4         Andorra   9.000000e+06                     121.0     88.695650\n"
     ]
    }
   ],
   "source": [
    "# Question 1 (below)\n",
    "\n",
    "energy = pd.read_excel('Energy Indicators.xls', skiprows=18, skip_footer=38, header=None).drop([0,1], 1)\n",
    "energy = energy.rename(index=str, columns={2: \"Country\", 3: \"Energy Supply\", 4: \"Energy Supply per Capita\",\n",
    "                                          5: \"% Renewables\"})\n",
    "energy = energy.replace(to_replace='...', value=np.NaN)\n",
    "energy['Energy Supply'] = energy['Energy Supply'] * 1000000\n",
    "\n",
    "# find countries with parentheses in the name:\n",
    "# parens = energy['Country'].str.contains((\"\\((.+)\\)\"))\n",
    "# print(energy[parens])\n",
    "\n",
    "energy.iloc[24] = pd.Series({'Country': 'Bolivia', 'Energy Supply': 3.360000e+08,\n",
    "                            'Energy Supply per Capita': 32, '% Renewables': 31.477120})\n",
    "energy.iloc[43] = pd.Series({'Country': 'Hong Kong', 'Energy Supply': 5.85e+08,\n",
    "                            'Energy Supply per Capita': 82, '% Renewables': 0})\n",
    "energy.iloc[70] = pd.Series({'Country': 'Falkland Islands', 'Energy Supply': 1.000000e+06,\n",
    "                            'Energy Supply per Capita': 258, '% Renewables': 33.333330})\n",
    "energy.iloc[98] = pd.Series({'Country': 'Iran', 'Energy Supply': 9.172000e+09,\n",
    "                            'Energy Supply per Capita': 119, '% Renewables': 5.707721})\n",
    "energy.iloc[133] = pd.Series({'Country': 'Micronesia', 'Energy Supply': 2.000000e+06,\n",
    "                            'Energy Supply per Capita': 21, '% Renewables': 2.941176})\n",
    "energy.iloc[164] = pd.Series({'Country': 'South Korea', 'Energy Supply': 1.1007e+10,\n",
    "                            'Energy Supply per Capita': 221, '% Renewables': 2.27935})\n",
    "energy.iloc[183] = pd.Series({'Country': 'Sint Maarten', 'Energy Supply': 1.200000e+07,\n",
    "                            'Energy Supply per Capita': 327, '% Renewables': 0.000000})\n",
    "energy.iloc[214] = pd.Series({'Country': 'United Kingdom', 'Energy Supply': 7.92e+09,\n",
    "                            'Energy Supply per Capita': 124, '% Renewables': 10.6005})\n",
    "energy.iloc[216] = pd.Series({'Country': 'United States', 'Energy Supply': 9.0838e+10,\n",
    "                            'Energy Supply per Capita': 286, '% Renewables': 11.571})\n",
    "energy.iloc[221] = pd.Series({'Country': 'Venezuela', 'Energy Supply': 2.871000e+09,\n",
    "                            'Energy Supply per Capita': 95, '% Renewables': 67.834520})\n",
    "print(energy.head())"
   ]
  },
  {
   "cell_type": "markdown",
   "metadata": {},
   "source": [
    "### Question 1\n",
    "Load the energy data from the file `Energy Indicators.xls`, which is a list of indicators of [energy supply and renewable electricity production](Energy%20Indicators.xls) from the [United Nations](http://unstats.un.org/unsd/environment/excel_file_tables/2013/Energy%20Indicators.xls) for the year 2013, and should be put into a DataFrame with the variable name of **energy**.\n",
    "\n",
    "Keep in mind that this is an Excel file, and not a comma separated values file. Also, make sure to exclude the footer and header information from the datafile. The first two columns are unneccessary, so you should get rid of them, and you should change the column labels so that the columns are:\n",
    "\n",
    "`['Country', 'Energy Supply', 'Energy Supply per Capita', '% Renewable's]`\n",
    "\n",
    "Convert the energy supply and the energy supply per capita to gigajoules (there are 1,000,000 gigajoules in a petajoule). For all countries which have missing data (e.g. data with \"...\") make sure this is reflected as `np.NaN` values.\n",
    "\n",
    "Rename the following list of countries (for use in later questions):\n",
    "\n",
    "```\"Republic of Korea\": \"South Korea\",\n",
    "\"United States of America\": \"United States\",\n",
    "\"United Kingdom of Great Britain and Northern Ireland\": \"United Kingdom\",\n",
    "\"China, Hong Kong Special Administrative Region\": \"Hong Kong\"```\n",
    "\n",
    "There are also several countries with parenthesis in their name. Be sure to remove these, e.g. `'Bolivia (Plurinational State of)'` should be `'Bolivia'`.\n",
    "\n",
    "<br>\n",
    "\n",
    "Next, load the GDP data from the file `world_bank.csv`, which is a csv containing countries' GDP from 1960 to 2015 from [World Bank](http://data.worldbank.org/indicator/NY.GDP.MKTP.CD). Call this DataFrame **GDP**. \n",
    "\n",
    "Make sure to skip the header, and rename the following list of countries:\n",
    "\n",
    "```\"Korea, Rep.\": \"South Korea\", \n",
    "\"Iran, Islamic Rep.\": \"Iran\",\n",
    "\"Hong Kong SAR, China\": \"Hong Kong\"```\n",
    "\n",
    "<br>\n",
    "\n",
    "Finally, load the [Sciamgo Journal and Country Rank data for Energy Engineering and Power Technology](http://www.scimagojr.com/countryrank.php?category=2102), which ranks countries based on their journal contributions in the aforementioned area. Call this DataFrame **ScimEn**.\n",
    "\n",
    "Join the three datasets: GDP, Energy, and ScimEn into a new dataset (using the intersection of country names). Use only the last 10 years (2006-2015) of GDP data and only the top 15 countries by Scimagojr 'Rank' (Rank 1 through 15). \n",
    "\n",
    "The index of this DataFrame should be the name of the country.\n",
    "\n",
    "*This function should return a DataFrame with 20 columns and 15 entries.*"
   ]
  },
  {
   "cell_type": "code",
   "execution_count": 14,
   "metadata": {
    "collapsed": false
   },
   "outputs": [
    {
     "name": "stderr",
     "output_type": "stream",
     "text": [
      "/Users/benjamingrove/.pyenv/versions/3.5.2/lib/python3.5/site-packages/ipykernel/__main__.py:13: SettingWithCopyWarning: \n",
      "A value is trying to be set on a copy of a slice from a DataFrame\n",
      "\n",
      "See the caveats in the documentation: http://pandas.pydata.org/pandas-docs/stable/indexing.html#indexing-view-versus-copy\n",
      "/Users/benjamingrove/.pyenv/versions/3.5.2/lib/python3.5/site-packages/ipykernel/__main__.py:14: SettingWithCopyWarning: \n",
      "A value is trying to be set on a copy of a slice from a DataFrame\n",
      "\n",
      "See the caveats in the documentation: http://pandas.pydata.org/pandas-docs/stable/indexing.html#indexing-view-versus-copy\n",
      "/Users/benjamingrove/.pyenv/versions/3.5.2/lib/python3.5/site-packages/ipykernel/__main__.py:15: SettingWithCopyWarning: \n",
      "A value is trying to be set on a copy of a slice from a DataFrame\n",
      "\n",
      "See the caveats in the documentation: http://pandas.pydata.org/pandas-docs/stable/indexing.html#indexing-view-versus-copy\n",
      "/Users/benjamingrove/.pyenv/versions/3.5.2/lib/python3.5/site-packages/ipykernel/__main__.py:16: SettingWithCopyWarning: \n",
      "A value is trying to be set on a copy of a slice from a DataFrame\n",
      "\n",
      "See the caveats in the documentation: http://pandas.pydata.org/pandas-docs/stable/indexing.html#indexing-view-versus-copy\n",
      "/Users/benjamingrove/.pyenv/versions/3.5.2/lib/python3.5/site-packages/ipykernel/__main__.py:17: SettingWithCopyWarning: \n",
      "A value is trying to be set on a copy of a slice from a DataFrame\n",
      "\n",
      "See the caveats in the documentation: http://pandas.pydata.org/pandas-docs/stable/indexing.html#indexing-view-versus-copy\n",
      "/Users/benjamingrove/.pyenv/versions/3.5.2/lib/python3.5/site-packages/ipykernel/__main__.py:18: SettingWithCopyWarning: \n",
      "A value is trying to be set on a copy of a slice from a DataFrame\n",
      "\n",
      "See the caveats in the documentation: http://pandas.pydata.org/pandas-docs/stable/indexing.html#indexing-view-versus-copy\n",
      "/Users/benjamingrove/.pyenv/versions/3.5.2/lib/python3.5/site-packages/ipykernel/__main__.py:19: SettingWithCopyWarning: \n",
      "A value is trying to be set on a copy of a slice from a DataFrame\n",
      "\n",
      "See the caveats in the documentation: http://pandas.pydata.org/pandas-docs/stable/indexing.html#indexing-view-versus-copy\n",
      "/Users/benjamingrove/.pyenv/versions/3.5.2/lib/python3.5/site-packages/ipykernel/__main__.py:20: SettingWithCopyWarning: \n",
      "A value is trying to be set on a copy of a slice from a DataFrame\n",
      "\n",
      "See the caveats in the documentation: http://pandas.pydata.org/pandas-docs/stable/indexing.html#indexing-view-versus-copy\n",
      "/Users/benjamingrove/.pyenv/versions/3.5.2/lib/python3.5/site-packages/ipykernel/__main__.py:21: SettingWithCopyWarning: \n",
      "A value is trying to be set on a copy of a slice from a DataFrame\n",
      "\n",
      "See the caveats in the documentation: http://pandas.pydata.org/pandas-docs/stable/indexing.html#indexing-view-versus-copy\n",
      "/Users/benjamingrove/.pyenv/versions/3.5.2/lib/python3.5/site-packages/ipykernel/__main__.py:22: SettingWithCopyWarning: \n",
      "A value is trying to be set on a copy of a slice from a DataFrame\n",
      "\n",
      "See the caveats in the documentation: http://pandas.pydata.org/pandas-docs/stable/indexing.html#indexing-view-versus-copy\n",
      "/Users/benjamingrove/.pyenv/versions/3.5.2/lib/python3.5/site-packages/ipykernel/__main__.py:31: SettingWithCopyWarning: \n",
      "A value is trying to be set on a copy of a slice from a DataFrame\n",
      "\n",
      "See the caveats in the documentation: http://pandas.pydata.org/pandas-docs/stable/indexing.html#indexing-view-versus-copy\n",
      "/Users/benjamingrove/.pyenv/versions/3.5.2/lib/python3.5/site-packages/ipykernel/__main__.py:32: SettingWithCopyWarning: \n",
      "A value is trying to be set on a copy of a slice from a DataFrame\n",
      "\n",
      "See the caveats in the documentation: http://pandas.pydata.org/pandas-docs/stable/indexing.html#indexing-view-versus-copy\n",
      "/Users/benjamingrove/.pyenv/versions/3.5.2/lib/python3.5/site-packages/ipykernel/__main__.py:33: SettingWithCopyWarning: \n",
      "A value is trying to be set on a copy of a slice from a DataFrame\n",
      "\n",
      "See the caveats in the documentation: http://pandas.pydata.org/pandas-docs/stable/indexing.html#indexing-view-versus-copy\n"
     ]
    },
    {
     "name": "stdout",
     "output_type": "stream",
     "text": [
      "Venezuela\n",
      "                          Country  Energy Supply  Energy Supply per Capita  \\\n",
      "210                        Tuvalu            NaN                       NaN   \n",
      "211                        Uganda   4.520000e+08                      12.0   \n",
      "212                     Ukraine18   4.844000e+09                     107.0   \n",
      "213          United Arab Emirates   2.710000e+09                     300.0   \n",
      "214                United Kingdom   7.920000e+09                     124.0   \n",
      "215   United Republic of Tanzania   9.940000e+08                      20.0   \n",
      "216                 United States   9.083800e+10                     286.0   \n",
      "217  United States Virgin Islands            NaN                       NaN   \n",
      "218                       Uruguay   1.960000e+08                      58.0   \n",
      "219                    Uzbekistan   1.798000e+09                      62.0   \n",
      "220                       Vanuatu   3.000000e+06                      10.0   \n",
      "221                     Venezuela   2.871000e+09                      95.0   \n",
      "\n",
      "     % Renewables  \n",
      "210      0.000000  \n",
      "211     68.018180  \n",
      "212      8.067312  \n",
      "213      0.000000  \n",
      "214     10.600470  \n",
      "215     31.072840  \n",
      "216     11.570980  \n",
      "217      0.000000  \n",
      "218     71.605040  \n",
      "219     21.328410  \n",
      "220     14.705880  \n",
      "221     67.834520  \n",
      "\n",
      "Index(['Country',         1,         2,         3,         4,         5,\n",
      "               6,         7,         8,         9,        10,        11,\n",
      "              12,        13,        14,        15,        16,        17,\n",
      "              18,        19,        20,        21,        22,        23,\n",
      "              24,        25,        26,        27,        28,        29,\n",
      "              30,        31,        32,        33,        34,        35,\n",
      "              36,        37,        38,        39,        40,        41,\n",
      "              42,        43,        44,        45,        46,        47,\n",
      "              48,        49,        50,        51,        52,        53,\n",
      "              54,        55,        56,        57,        58,        59],\n",
      "      dtype='object')\n",
      "       Country\n",
      "0        Aruba\n",
      "1      Andorra\n",
      "2  Afghanistan\n",
      "3       Angola\n",
      "4      Albania\n",
      "             50            51            52            53            54  \\\n",
      "0           NaN           NaN           NaN           NaN  2.467704e+09   \n",
      "1  4.018196e+09  4.021331e+09  3.675728e+09  3.535389e+09  3.346317e+09   \n",
      "2  1.030523e+10  1.172119e+10  1.214448e+10  1.469733e+10  1.593680e+10   \n",
      "3  5.581103e+10  6.842044e+10  7.787420e+10  7.975320e+10  8.247091e+10   \n",
      "4  9.771760e+09  1.034829e+10  1.112752e+10  1.150029e+10  1.192695e+10   \n",
      "\n",
      "             55            56            57            58            59  \n",
      "0           NaN           NaN           NaN           NaN           NaN  \n",
      "1  3.185605e+09  3.129538e+09  3.127550e+09           NaN           NaN  \n",
      "2  1.691113e+10  1.935220e+10  1.973134e+10  1.999032e+10  2.029415e+10  \n",
      "3  8.570262e+10  9.012096e+10  9.626143e+10  1.008863e+11  1.039106e+11  \n",
      "4  1.223109e+10  1.240477e+10  1.254247e+10  1.279331e+10  1.312082e+10  \n",
      "       Country          2006          2007          2008          2009  \\\n",
      "0        Aruba           NaN           NaN           NaN           NaN   \n",
      "1      Andorra  4.018196e+09  4.021331e+09  3.675728e+09  3.535389e+09   \n",
      "2  Afghanistan  1.030523e+10  1.172119e+10  1.214448e+10  1.469733e+10   \n",
      "3       Angola  5.581103e+10  6.842044e+10  7.787420e+10  7.975320e+10   \n",
      "4      Albania  9.771760e+09  1.034829e+10  1.112752e+10  1.150029e+10   \n",
      "\n",
      "           2010          2011          2012          2013          2014  \\\n",
      "0  2.467704e+09           NaN           NaN           NaN           NaN   \n",
      "1  3.346317e+09  3.185605e+09  3.129538e+09  3.127550e+09           NaN   \n",
      "2  1.593680e+10  1.691113e+10  1.935220e+10  1.973134e+10  1.999032e+10   \n",
      "3  8.247091e+10  8.570262e+10  9.012096e+10  9.626143e+10  1.008863e+11   \n",
      "4  1.192695e+10  1.223109e+10  1.240477e+10  1.254247e+10  1.279331e+10   \n",
      "\n",
      "           2015  \n",
      "0           NaN  \n",
      "1           NaN  \n",
      "2  2.029415e+10  \n",
      "3  1.039106e+11  \n",
      "4  1.312082e+10  \n",
      "           Rank      Documents  Citable documents      Citations  \\\n",
      "count  191.0000     191.000000         191.000000     191.000000   \n",
      "mean    96.0000    2711.130890        2680.848168   20708.298429   \n",
      "std     55.2811   12073.315568       11964.511850   79054.156840   \n",
      "min      1.0000       1.000000           1.000000       0.000000   \n",
      "25%     48.5000       6.000000           6.000000      14.000000   \n",
      "50%     96.0000      57.000000          56.000000     211.000000   \n",
      "75%    143.5000     862.000000         856.500000    6075.000000   \n",
      "max    191.0000  127050.000000      126767.000000  792274.000000   \n",
      "\n",
      "       Self-citations  Citations per document     H index  \n",
      "count      191.000000               191.00000  191.000000  \n",
      "mean      6271.607330                 5.59000   25.931937  \n",
      "std      36003.811698                 4.99446   37.366895  \n",
      "min          0.000000                 0.00000    0.000000  \n",
      "25%          1.000000                 1.84500    2.000000  \n",
      "50%         25.000000                 4.50000    8.000000  \n",
      "75%        840.000000                 8.34000   37.000000  \n",
      "max     411683.000000                37.00000  230.000000  \n",
      "    Rank             Country  Documents  Citable documents  Citations  \\\n",
      "0      1               China     127050             126767     597237   \n",
      "1      2       United States      96661              94747     792274   \n",
      "2      3               Japan      30504              30287     223024   \n",
      "3      4      United Kingdom      20944              20357     206091   \n",
      "4      5  Russian Federation      18534              18301      34266   \n",
      "5      6              Canada      17899              17620     215003   \n",
      "6      7             Germany      17027              16831     140566   \n",
      "7      8               India      15005              14841     128763   \n",
      "8      9              France      13153              12973     130632   \n",
      "9     10         South Korea      11983              11923     114675   \n",
      "10    11               Italy      10964              10794     111850   \n",
      "11    12               Spain       9428               9330     123336   \n",
      "12    13                Iran       8896               8819      57470   \n",
      "13    14           Australia       8831               8725      90765   \n",
      "14    15              Brazil       8668               8596      60702   \n",
      "\n",
      "    Self-citations  Citations per document  H index  \n",
      "0           411683                    4.70      138  \n",
      "1           265436                    8.20      230  \n",
      "2            61554                    7.31      134  \n",
      "3            37874                    9.84      139  \n",
      "4            12422                    1.85       57  \n",
      "5            40930                   12.01      149  \n",
      "6            27426                    8.26      126  \n",
      "7            37209                    8.58      115  \n",
      "8            28601                    9.93      114  \n",
      "9            22595                    9.57      104  \n",
      "10           26661                   10.20      106  \n",
      "11           23964                   13.08      115  \n",
      "12           19125                    6.46       72  \n",
      "13           15606                   10.28      107  \n",
      "14           14396                    7.00       86  \n"
     ]
    },
    {
     "data": {
      "text/plain": [
       "\"\\nprint()\\nprint('===========DRUMROLL==============')\\nprint()\\n\\nfirst_two = pd.merge(ScimEn, energy, on='Country')\\nprint(first_two.head(15))\\n\\nprint()\\nprint('===========HORNS COME IN==============')\\nprint()\\n\\nall_three = pd.merge(first_two, GDP, on='Country')\\nall_three = all_three.set_index('Country')\\nall_three = all_three.head(15)\\nall_three\\n\""
      ]
     },
     "execution_count": 14,
     "metadata": {},
     "output_type": "execute_result"
    }
   ],
   "source": [
    "energy = pd.read_excel('Energy Indicators.xls', skiprows=18, skip_footer=38, header=None).drop([0,1], 1)\n",
    "energy = energy.rename(index=str, columns={2: \"Country\", 3: \"Energy Supply\", 4: \"Energy Supply per Capita\",\n",
    "                                          5: \"% Renewables\"})\n",
    "energy = energy.replace(to_replace='...', value=np.NaN)\n",
    "energy['Energy Supply'] = energy['Energy Supply'] * 1000000\n",
    "\n",
    "# find countries whose names must be changed:\n",
    "# print(energy.loc[energy['Country'] == 'United States of America20'])\n",
    "\n",
    "# find countries with parentheses in the name:\n",
    "# print(energy[energy['Country'].str.contains((\"\\((.+)\\)\"))])\n",
    "\n",
    "energy['Country'][24] = 'Bolivia'\n",
    "energy['Country'][43] = 'Hong Kong'\n",
    "energy['Country'][70] = 'Falkland Islands'\n",
    "energy['Country'][98] = 'Iran'\n",
    "energy['Country'][133] = 'Micronesia'\n",
    "energy['Country'][164] = 'South Korea'\n",
    "energy['Country'][183] = 'Sint Maarten'\n",
    "energy['Country'][214] = 'United Kingdom'\n",
    "energy['Country'][216] = 'United States'\n",
    "energy['Country'][221] = 'Venezuela'\n",
    "print(energy['Country'][221])\n",
    "print(energy[210:222])\n",
    "print()\n",
    "\n",
    "\n",
    "GDP = pd.read_csv('world_bank.csv', header=None, skiprows=5)\n",
    "GDP = GDP.rename(index=str, columns={0: \"Country\"})\n",
    "\n",
    "GDP['Country'][123] = 'South Korea'\n",
    "GDP['Country'][109] = 'Iran'\n",
    "GDP['Country'][93] = 'Hong Kong'\n",
    "\n",
    "print(GDP.dtypes.index)\n",
    "# print(GDP.head())\n",
    "df1 = GDP.ix[:, :1]\n",
    "df2 = GDP.ix[:,50:]\n",
    "# GDP = GDP.drop(GDP.ix[5:], axis=1)\n",
    "print(df1.head())\n",
    "print(df2.head())\n",
    "GDP = df1.join(df2)\n",
    "# GDP = pd.merge(df1, df2)\n",
    "# GDP = pd.merge([df1, df2])\n",
    "# GDP = df1.concat(df2)\n",
    "# print('FINAL GDP DATAFRAME')\n",
    "GDP = GDP.rename(index=str, columns={50: '2006', 51: '2007', 52: '2008', 53: '2009', 54: '2010',\n",
    "                                    55: '2011', 56: '2012', 57: '2013', 58: '2014', 59: '2015'})\n",
    "print(GDP.head())\n",
    "\n",
    "\n",
    "ScimEn = pd.read_excel('scimagojr-3.xlsx')\n",
    "print(ScimEn.describe())\n",
    "ScimEn = ScimEn.head(15)\n",
    "print(ScimEn)\n",
    "\n",
    "\"\"\"\n",
    "print()\n",
    "print('===========DRUMROLL==============')\n",
    "print()\n",
    "\n",
    "first_two = pd.merge(ScimEn, energy, on='Country')\n",
    "print(first_two.head(15))\n",
    "\n",
    "print()\n",
    "print('===========HORNS COME IN==============')\n",
    "print()\n",
    "\n",
    "all_three = pd.merge(first_two, GDP, on='Country')\n",
    "all_three = all_three.set_index('Country')\n",
    "all_three = all_three.head(15)\n",
    "all_three\n",
    "\"\"\""
   ]
  },
  {
   "cell_type": "code",
   "execution_count": null,
   "metadata": {
    "collapsed": false
   },
   "outputs": [],
   "source": [
    "def answer_one():\n",
    "    return \"ANSWER\""
   ]
  },
  {
   "cell_type": "markdown",
   "metadata": {},
   "source": [
    "### Question 2 (6.6%)\n",
    "The previous question joined three datasets then reduced this to just the top 15 entries. When you joined the datasets, but before you reduced this to the top 15 items, how many entries did you lose?\n",
    "\n",
    "*This function should return a single number.*"
   ]
  },
  {
   "cell_type": "code",
   "execution_count": null,
   "metadata": {
    "collapsed": false
   },
   "outputs": [],
   "source": [
    "%%HTML\n",
    "<svg width=\"800\" height=\"300\">\n",
    "  <circle cx=\"150\" cy=\"180\" r=\"80\" fill-opacity=\"0.2\" stroke=\"black\" stroke-width=\"2\" fill=\"blue\" />\n",
    "  <circle cx=\"200\" cy=\"100\" r=\"80\" fill-opacity=\"0.2\" stroke=\"black\" stroke-width=\"2\" fill=\"red\" />\n",
    "  <circle cx=\"100\" cy=\"100\" r=\"80\" fill-opacity=\"0.2\" stroke=\"black\" stroke-width=\"2\" fill=\"green\" />\n",
    "  <line x1=\"150\" y1=\"125\" x2=\"300\" y2=\"150\" stroke=\"black\" stroke-width=\"2\" fill=\"black\" stroke-dasharray=\"5,3\"/>\n",
    "  <text  x=\"300\" y=\"165\" font-family=\"Verdana\" font-size=\"35\">Everything but this!</text>\n",
    "</svg>"
   ]
  },
  {
   "cell_type": "code",
   "execution_count": null,
   "metadata": {
    "collapsed": false
   },
   "outputs": [],
   "source": [
    "def answer_two():\n",
    "    return \"ANSWER\""
   ]
  },
  {
   "cell_type": "markdown",
   "metadata": {},
   "source": [
    "### Question 3 (6.6%)\n",
    "What are the top 15 countries for average GDP over the last 10 years?\n",
    "\n",
    "*This function should return a Series named `avgGDP` with 15 countries and their average GDP sorted in descending order.*"
   ]
  },
  {
   "cell_type": "code",
   "execution_count": null,
   "metadata": {
    "collapsed": false,
    "scrolled": true
   },
   "outputs": [],
   "source": [
    "def answer_three():\n",
    "    Top15 = answer_one()\n",
    "    return \"ANSWER\""
   ]
  },
  {
   "cell_type": "markdown",
   "metadata": {},
   "source": [
    "### Question 4 (6.6%)\n",
    "By how much had the GDP changed over the 10 year span for the country with the 6th largest average GDP?\n",
    "\n",
    "*This function should return a single number.*"
   ]
  },
  {
   "cell_type": "code",
   "execution_count": null,
   "metadata": {
    "collapsed": false,
    "scrolled": true
   },
   "outputs": [],
   "source": [
    "def answer_four():\n",
    "    Top15 = answer_one()\n",
    "    return \"ANSWER\""
   ]
  },
  {
   "cell_type": "markdown",
   "metadata": {},
   "source": [
    "### Question 5 (6.6%)\n",
    "What is the mean energy supply per capita?\n",
    "\n",
    "*This function should return a single number.*"
   ]
  },
  {
   "cell_type": "code",
   "execution_count": null,
   "metadata": {
    "collapsed": false
   },
   "outputs": [],
   "source": [
    "def answer_five():\n",
    "    Top15 = answer_one()\n",
    "    return \"ANSWER\""
   ]
  },
  {
   "cell_type": "markdown",
   "metadata": {},
   "source": [
    "### Question 6 (6.6%)\n",
    "What country has the maximum % Renewable and what is the percentage?\n",
    "\n",
    "*This function should return a tuple with the name of the country and the percentage.*"
   ]
  },
  {
   "cell_type": "code",
   "execution_count": null,
   "metadata": {
    "collapsed": false
   },
   "outputs": [],
   "source": [
    "def answer_six():\n",
    "    Top15 = answer_one()\n",
    "    return \"ANSWER\""
   ]
  },
  {
   "cell_type": "markdown",
   "metadata": {},
   "source": [
    "### Question 7 (6.6%)\n",
    "Create a new column that is the ratio of Self-Citations to Total Citations. \n",
    "What is the maximum value for this new column, and what country has the highest ratio?\n",
    "\n",
    "*This function should return a tuple with the name of the country and the ratio.*"
   ]
  },
  {
   "cell_type": "code",
   "execution_count": null,
   "metadata": {
    "collapsed": false
   },
   "outputs": [],
   "source": [
    "def answer_seven():\n",
    "    Top15 = answer_one()\n",
    "    return \"ANSWER\""
   ]
  },
  {
   "cell_type": "markdown",
   "metadata": {},
   "source": [
    "### Question 8 (6.6%)\n",
    "\n",
    "Create a column that estimates the population using Energy Supply and Energy Supply per capita. \n",
    "What is the third most populous country according to this estimate?\n",
    "\n",
    "*This function should return a single string value.*"
   ]
  },
  {
   "cell_type": "code",
   "execution_count": null,
   "metadata": {
    "collapsed": false
   },
   "outputs": [],
   "source": [
    "def answer_eight():\n",
    "    Top15 = answer_one()\n",
    "    return \"ANSWER\""
   ]
  },
  {
   "cell_type": "markdown",
   "metadata": {},
   "source": [
    "### Question 9 (6.6%)\n",
    "Create a column that estimates the number of citable documents per person. \n",
    "What is the correlation between the number of citable documents per capita and the energy supply per capita?\n",
    "\n",
    "*This function should return a single number.*\n",
    "\n",
    "*(Optional: Use the built-in function `plot9()` to visualize the relationship between Energy Supply per Capita vs. Citable docs per Capita).*"
   ]
  },
  {
   "cell_type": "code",
   "execution_count": null,
   "metadata": {
    "collapsed": false
   },
   "outputs": [],
   "source": [
    "def answer_nine():\n",
    "    Top15 = answer_one()\n",
    "    return \"ANSWER\""
   ]
  },
  {
   "cell_type": "code",
   "execution_count": null,
   "metadata": {
    "collapsed": false
   },
   "outputs": [],
   "source": [
    "def plot9():\n",
    "    import matplotlib as plt\n",
    "    %matplotlib inline\n",
    "    \n",
    "    Top15 = answer_one()\n",
    "    Top15['PopEst'] = Top15['Energy Supply'] / Top15['Energy Supply per Capita']\n",
    "    Top15['Citable docs per Capita'] = Top15['Citable documents'] / Top15['PopEst']\n",
    "    Top15.plot(x='Citable docs per Capita', y='Energy Supply per Capita', kind='scatter', xlim=[0, 0.0006])"
   ]
  },
  {
   "cell_type": "code",
   "execution_count": null,
   "metadata": {
    "collapsed": false
   },
   "outputs": [],
   "source": [
    "#plot9()"
   ]
  },
  {
   "cell_type": "markdown",
   "metadata": {},
   "source": [
    "### Question 10 (6.6%)\n",
    "Create a new column with a 1 if the country's % Renewable value is at or above the median for all countries in the top 15.\n",
    "\n",
    "*This function should return a series named `HighRenew` whose index is the country name sorted in ascending order of rank.*"
   ]
  },
  {
   "cell_type": "code",
   "execution_count": null,
   "metadata": {
    "collapsed": false
   },
   "outputs": [],
   "source": [
    "def answer_ten():\n",
    "    Top15 = answer_one()\n",
    "    return \"ANSWER\""
   ]
  },
  {
   "cell_type": "markdown",
   "metadata": {},
   "source": [
    "### Question 11 (6.6%)\n",
    "Use the following dictionary to group the Countries by Continent, then create a dateframe that displays the sample size (the number of countries in each continent bin), and the sum, mean, and std deviation for the estimated population of each country.\n",
    "\n",
    "```python\n",
    "ContinentDict  = {'China':'Asia', \n",
    "                  'United States':'North America', \n",
    "                  'Japan':'Asia', \n",
    "                  'United Kingdom':'Europe', \n",
    "                  'Russian Federation':'Europe', \n",
    "                  'Canada':'North America', \n",
    "                  'Germany':'Europe', \n",
    "                  'India':'Asia',\n",
    "                  'France':'Europe', \n",
    "                  'South Korea':'Asia', \n",
    "                  'Italy':'Europe', \n",
    "                  'Spain':'Europe', \n",
    "                  'Iran':'Asia',\n",
    "                  'Australia':'Australia', \n",
    "                  'Brazil':'South America'}\n",
    "```\n",
    "\n",
    "*This function should return a DataFrame with index named Continent `['Asia', 'Australia', 'Europe', 'North America', 'South America']` and columns `['size', 'sum', 'mean', 'std']`*"
   ]
  },
  {
   "cell_type": "code",
   "execution_count": null,
   "metadata": {
    "collapsed": false
   },
   "outputs": [],
   "source": [
    "def answer_eleven():\n",
    "    Top15 = answer_one()\n",
    "    return \"ANSWER\""
   ]
  },
  {
   "cell_type": "markdown",
   "metadata": {},
   "source": [
    "### Question 12 (6.6%)\n",
    "Cut % Renewable into 5 bins. Group Top15 by the Continent, as well as these new % Renewable bins. How many countries are in each of these groups?\n",
    "\n",
    "*This function should return a Series with a MultiIndex of `Continent`, then the bins for `% Renewable`. Do not include groups with no countries.*"
   ]
  },
  {
   "cell_type": "code",
   "execution_count": null,
   "metadata": {
    "collapsed": false,
    "scrolled": true
   },
   "outputs": [],
   "source": [
    "def answer_twelve():\n",
    "    Top15 = answer_one()\n",
    "    return \"ANSWER\""
   ]
  },
  {
   "cell_type": "markdown",
   "metadata": {},
   "source": [
    "### Question 13 (6.6%)\n",
    "Convert the Population Estimate series to a string with thousands separator (using commas)\n",
    "\n",
    "e.g. 12345678.90 -> 12,345,678.90\n",
    "\n",
    "*This function should return a Series `PopEst` whose index is the country name and whose values are the population estimate string.*"
   ]
  },
  {
   "cell_type": "code",
   "execution_count": null,
   "metadata": {
    "collapsed": false,
    "scrolled": true
   },
   "outputs": [],
   "source": [
    "def answer_thirteen():\n",
    "    Top15 = answer_one()\n",
    "    return \"ANSWER\""
   ]
  },
  {
   "cell_type": "markdown",
   "metadata": {},
   "source": [
    "### Optional\n",
    "\n",
    "Use the built in function `plot_optional()` to see an example visualization."
   ]
  },
  {
   "cell_type": "code",
   "execution_count": null,
   "metadata": {
    "collapsed": false,
    "scrolled": true
   },
   "outputs": [],
   "source": [
    "def plot_optional():\n",
    "    import matplotlib as plt\n",
    "    %matplotlib inline\n",
    "    ax = Top15.plot(x='Rank', y='% Renewable', kind='scatter', \n",
    "                    c=['#e41a1c','#377eb8','#e41a1c','#4daf4a','#4daf4a','#377eb8','#4daf4a','#e41a1c',\n",
    "                       '#4daf4a','#e41a1c','#4daf4a','#4daf4a','#e41a1c','#dede00','#ff7f00'], \n",
    "                    xticks=range(1,16), s=6*Top15['2014']/10**10, alpha=.75, figsize=[16,6]);\n",
    "\n",
    "    for i, txt in enumerate(Top15.index):\n",
    "        ax.annotate(txt, [Top15['Rank'][i], Top15['% Renewable'][i]], ha='center')\n",
    "\n",
    "    print(\"This is an example of a visualization that can be created to help understand the data. \\\n",
    "This is a bubble chart showing % Renewable vs. Rank. The size of the bubble corresponds to the countries' \\\n",
    "2014 GDP, and the color corresponds to the continent.\")"
   ]
  },
  {
   "cell_type": "code",
   "execution_count": null,
   "metadata": {
    "collapsed": false
   },
   "outputs": [],
   "source": [
    "#plot_optional()"
   ]
  }
 ],
 "metadata": {
  "anaconda-cloud": {},
  "coursera": {
   "course_slug": "python-data-analysis",
   "graded_item_id": "zAr06",
   "launcher_item_id": "KSSjT",
   "part_id": "SL3fU"
  },
  "kernelspec": {
   "display_name": "Python 3",
   "language": "python",
   "name": "python3"
  },
  "language_info": {
   "codemirror_mode": {
    "name": "ipython",
    "version": 3
   },
   "file_extension": ".py",
   "mimetype": "text/x-python",
   "name": "python",
   "nbconvert_exporter": "python",
   "pygments_lexer": "ipython3",
   "version": "3.5.2"
  }
 },
 "nbformat": 4,
 "nbformat_minor": 0
}
